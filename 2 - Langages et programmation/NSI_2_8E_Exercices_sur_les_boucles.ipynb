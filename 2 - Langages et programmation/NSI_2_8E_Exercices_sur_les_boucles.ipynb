{
 "cells": [
  {
   "cell_type": "markdown",
   "metadata": {},
   "source": [
    "# Exercices sur les boucles"
   ]
  },
  {
   "cell_type": "markdown",
   "metadata": {},
   "source": [
    "## Analyse de texte\n",
    "\n",
    "1. Que fait le code suivant ?\n",
    "\n",
    "Il compte le nombre de \"e\" dans la citation"
   ]
  },
  {
   "cell_type": "code",
   "execution_count": 1,
   "metadata": {},
   "outputs": [
    {
     "name": "stdout",
     "output_type": "stream",
     "text": [
      "14\n"
     ]
    }
   ],
   "source": [
    "# -*- coding: utf-8 -*-\n",
    "citation = \"Je ne cherche pas à connaître les réponses,\\\n",
    "je cherche à comprendre les questions.\"\n",
    "compteur = 0\n",
    "for elt in citation:\n",
    "    if elt == \"e\":\n",
    "        compteur = compteur + 1\n",
    "print(compteur)"
   ]
  },
  {
   "cell_type": "markdown",
   "metadata": {},
   "source": [
    "2. Transformer le code pour qu'il compte le nombre de J, minuscule ou majuscule."
   ]
  },
  {
   "cell_type": "code",
   "execution_count": 2,
   "metadata": {},
   "outputs": [
    {
     "name": "stdout",
     "output_type": "stream",
     "text": [
      "2\n"
     ]
    }
   ],
   "source": [
    "# -*- coding: utf-8 -*-\n",
    "citation = \"Je ne cherche pas à connaître les réponses,\\\n",
    "je cherche à comprendre les questions.\"\n",
    "compteur = 0\n",
    "for elt in citation:\n",
    "    if elt ==\"j\" or elt == \"J\":\n",
    "        compteur = compteur + 1\n",
    "print(compteur)"
   ]
  },
  {
   "cell_type": "markdown",
   "metadata": {},
   "source": [
    "##  [La légende de l'échiquier de Sissa](https://fr.wikipedia.org/wiki/Probl%C3%A8me_de_l%27%C3%A9chiquier_de_Sissa)\n",
    "\n",
    "En Inde, le roi Belkib (ou Bathait), qui s'ennuie à la cour, demande qu'on lui invente un jeu pour le distraire. Le sage Sissa invente alors un jeu d'échecs, ce qui ravit le roi. Pour remercier Sissa, le roi lui demande de choisir sa récompense, aussi fastueuse qu'elle puisse être. Sissa choisit de demander au roi de prendre le plateau du jeu et, __sur la première case, poser un grain de riz, ensuite deux sur la deuxième, puis quatre sur la troisième, et ainsi de suite, en doublant à chaque fois le nombre de grains de riz que l’on met__. Le roi et la cour sont amusés par la modestie de cette demande. Mais lorsqu'on la met en œuvre, on s'aperçoit qu'il n'y a pas assez de grains de riz dans tout le royaume pour la satisfaire.\n",
    "\n",
    "__Ecrire un programme qui affiche le total de grains de riz posés sur l'échiquier, case après cases. On rappelle qu'un échiquier comporte 64 cases__."
   ]
  },
  {
   "cell_type": "code",
   "execution_count": 17,
   "metadata": {},
   "outputs": [
    {
     "name": "stdout",
     "output_type": "stream",
     "text": [
      "ceci est le nombre de grains de riz à la case 1 : 2\n",
      "ceci est le nombre de grains de riz à la case 2 : 4\n",
      "ceci est le nombre de grains de riz à la case 3 : 8\n",
      "ceci est le nombre de grains de riz à la case 4 : 16\n",
      "ceci est le nombre de grains de riz à la case 5 : 32\n",
      "ceci est le nombre de grains de riz à la case 6 : 64\n",
      "ceci est le nombre de grains de riz à la case 7 : 128\n",
      "ceci est le nombre de grains de riz à la case 8 : 256\n",
      "ceci est le nombre de grains de riz à la case 9 : 512\n",
      "ceci est le nombre de grains de riz à la case 10 : 1024\n",
      "ceci est le nombre de grains de riz à la case 11 : 2048\n",
      "ceci est le nombre de grains de riz à la case 12 : 4096\n",
      "ceci est le nombre de grains de riz à la case 13 : 8192\n",
      "ceci est le nombre de grains de riz à la case 14 : 16384\n",
      "ceci est le nombre de grains de riz à la case 15 : 32768\n",
      "ceci est le nombre de grains de riz à la case 16 : 65536\n",
      "ceci est le nombre de grains de riz à la case 17 : 131072\n",
      "ceci est le nombre de grains de riz à la case 18 : 262144\n",
      "ceci est le nombre de grains de riz à la case 19 : 524288\n",
      "ceci est le nombre de grains de riz à la case 20 : 1048576\n",
      "ceci est le nombre de grains de riz à la case 21 : 2097152\n",
      "ceci est le nombre de grains de riz à la case 22 : 4194304\n",
      "ceci est le nombre de grains de riz à la case 23 : 8388608\n",
      "ceci est le nombre de grains de riz à la case 24 : 16777216\n",
      "ceci est le nombre de grains de riz à la case 25 : 33554432\n",
      "ceci est le nombre de grains de riz à la case 26 : 67108864\n",
      "ceci est le nombre de grains de riz à la case 27 : 134217728\n",
      "ceci est le nombre de grains de riz à la case 28 : 268435456\n",
      "ceci est le nombre de grains de riz à la case 29 : 536870912\n",
      "ceci est le nombre de grains de riz à la case 30 : 1073741824\n",
      "ceci est le nombre de grains de riz à la case 31 : 2147483648\n",
      "ceci est le nombre de grains de riz à la case 32 : 4294967296\n",
      "ceci est le nombre de grains de riz à la case 33 : 8589934592\n",
      "ceci est le nombre de grains de riz à la case 34 : 17179869184\n",
      "ceci est le nombre de grains de riz à la case 35 : 34359738368\n",
      "ceci est le nombre de grains de riz à la case 36 : 68719476736\n",
      "ceci est le nombre de grains de riz à la case 37 : 137438953472\n",
      "ceci est le nombre de grains de riz à la case 38 : 274877906944\n",
      "ceci est le nombre de grains de riz à la case 39 : 549755813888\n",
      "ceci est le nombre de grains de riz à la case 40 : 1099511627776\n",
      "ceci est le nombre de grains de riz à la case 41 : 2199023255552\n",
      "ceci est le nombre de grains de riz à la case 42 : 4398046511104\n",
      "ceci est le nombre de grains de riz à la case 43 : 8796093022208\n",
      "ceci est le nombre de grains de riz à la case 44 : 17592186044416\n",
      "ceci est le nombre de grains de riz à la case 45 : 35184372088832\n",
      "ceci est le nombre de grains de riz à la case 46 : 70368744177664\n",
      "ceci est le nombre de grains de riz à la case 47 : 140737488355328\n",
      "ceci est le nombre de grains de riz à la case 48 : 281474976710656\n",
      "ceci est le nombre de grains de riz à la case 49 : 562949953421312\n",
      "ceci est le nombre de grains de riz à la case 50 : 1125899906842624\n",
      "ceci est le nombre de grains de riz à la case 51 : 2251799813685248\n",
      "ceci est le nombre de grains de riz à la case 52 : 4503599627370496\n",
      "ceci est le nombre de grains de riz à la case 53 : 9007199254740992\n",
      "ceci est le nombre de grains de riz à la case 54 : 18014398509481984\n",
      "ceci est le nombre de grains de riz à la case 55 : 36028797018963968\n",
      "ceci est le nombre de grains de riz à la case 56 : 72057594037927936\n",
      "ceci est le nombre de grains de riz à la case 57 : 144115188075855872\n",
      "ceci est le nombre de grains de riz à la case 58 : 288230376151711744\n",
      "ceci est le nombre de grains de riz à la case 59 : 576460752303423488\n",
      "ceci est le nombre de grains de riz à la case 60 : 1152921504606846976\n",
      "ceci est le nombre de grains de riz à la case 61 : 2305843009213693952\n",
      "ceci est le nombre de grains de riz à la case 62 : 4611686018427387904\n",
      "ceci est le nombre de grains de riz à la case 63 : 9223372036854775808\n",
      "ceci est le nombre de grains de riz à la case 64 : 18446744073709551616\n"
     ]
    }
   ],
   "source": [
    "grains = 0\n",
    "for i in range(1,65):\n",
    "    grains = 2 ** i\n",
    "    print(f\"ceci est le nombre de grains de riz à la case {i} : {grains}\")"
   ]
  },
  {
   "cell_type": "markdown",
   "metadata": {},
   "source": [
    "Ecrire un programme pour savoir à partir de quelle case le roi Belkib aura déjà déposé un million de million de grains de riz ($10^{12}$ grains) sur l'échiquier.\n",
    "\n",
    "> Rappel : avec Python, $10^{12}$ peut s'écrire `1e12`"
   ]
  },
  {
   "cell_type": "code",
   "execution_count": 2,
   "metadata": {},
   "outputs": [
    {
     "name": "stdout",
     "output_type": "stream",
     "text": [
      "le roi a dépassé le million de million à la case 40 pour un nombre de 1099511627775 grains de riz\n"
     ]
    }
   ],
   "source": [
    "grains = 0\n",
    "case = 0\n",
    "while grains < 1e12:\n",
    "    grains += 2 ** case\n",
    "    case = case + 1\n",
    "print(f\"le roi a dépassé le million de million à la case {case} pour un nombre de {grains} grains de riz\")"
   ]
  },
  {
   "cell_type": "markdown",
   "metadata": {},
   "source": [
    "## Devine le nombre\n",
    "\n",
    "Un joueur doit trouver un nombre entier choisi au préalable de 1 à 100 par l'ordinateur. A chaque tour, le joueur propose un nombre et l'ordinateur peut répondre de trois façons différentes :\n",
    "\n",
    "- Gagné !\n",
    "- Trop petit\n",
    "- Trop grand\n",
    "\n",
    "Ecrire un programme permettant de jouer à \"Devine le nombre\"."
   ]
  },
  {
   "cell_type": "code",
   "execution_count": 1,
   "metadata": {},
   "outputs": [
    {
     "name": "stdout",
     "output_type": "stream",
     "text": [
      "choisissez un nombre entre 1 et 100 54\n",
      "le nombre est trop petit\n",
      "choisissez un autre nombre entre 1 et 100 21\n",
      "le nombre est trop petit\n",
      "choisissez un autre nombre entre 1 et 100 98\n",
      "le nombre est trop grand\n",
      "choisissez un autre nombre entre 1 et 100 90\n",
      "le nombre est trop grand\n",
      "choisissez un autre nombre entre 1 et 100 80\n",
      "le nombre est trop petit\n",
      "choisissez un autre nombre entre 1 et 100 85\n",
      "le nombre est trop grand\n",
      "choisissez un autre nombre entre 1 et 100 83\n",
      "le nombre est trop grand\n",
      "choisissez un autre nombre entre 1 et 100 81\n",
      "bravo, vous avez trouvé le bon nombre !\n"
     ]
    }
   ],
   "source": [
    "from random import randint\n",
    "tirage = randint(1,100)\n",
    "nombre_choisi = int(input(\"choisissez un nombre entre 1 et 100 \"))\n",
    "while nombre_choisi != tirage:\n",
    "    if nombre_choisi < tirage:\n",
    "        print(\"le nombre est trop petit\")\n",
    "    else:\n",
    "        print(\"le nombre est trop grand\")\n",
    "    nombre_choisi = int(input(\"choisissez un autre nombre entre 1 et 100 \"))\n",
    "print(\"bravo, vous avez trouvé le bon nombre !\")"
   ]
  },
  {
   "cell_type": "markdown",
   "metadata": {},
   "source": [
    "On veut complexifier le jeu en imposant un nombre d'essais maximal.\n",
    "\n",
    "Modifier le programme précédent afin qu'il...\n",
    "\n",
    "- demande à l'utilisateur de saisir un nombre entier qui corrrespond au nombre maximum d'essais autorisés.\n",
    "- permette de jouer sans autoriser plus d'essais que le nombre maximum entré.\n",
    "- affiche soit la défaite soit la victoire en précisant le nombre d'essais utilisés."
   ]
  },
  {
   "cell_type": "code",
   "execution_count": 1,
   "metadata": {},
   "outputs": [
    {
     "name": "stdout",
     "output_type": "stream",
     "text": [
      "choisissez un nombre de tentatives5\n",
      "choisissez un nombre entre 1 et 100 50\n",
      "le nombre est trop petit\n",
      "choisissez un autre nombre entre 1 et 100 80\n",
      "le nombre est trop grand\n",
      "choisissez un autre nombre entre 1 et 100 65\n",
      "le nombre est trop petit\n",
      "choisissez un autre nombre entre 1 et 100 75\n",
      "le nombre est trop petit\n",
      "choisissez un autre nombre entre 1 et 100 77\n",
      "bravo ! vous avez trouvé le bon nombre en 5 essais !\n"
     ]
    }
   ],
   "source": [
    "from random import randint\n",
    "\n",
    "tirage = randint(1,100)\n",
    "essais = 1\n",
    "tentatives = int(input(\"choisissez un nombre de tentatives\"))\n",
    "nombre = int(input(\"choisissez un nombre entre 1 et 100 \"))\n",
    "while nombre != tirage and tentatives > essais:\n",
    "    if nombre < tirage:\n",
    "         print(\"le nombre est trop petit\")\n",
    "    elif nombre > tirage:\n",
    "        print(\"le nombre est trop grand\")\n",
    "    nombre = int(input(\"choisissez un autre nombre entre 1 et 100 \"))  \n",
    "    essais += 1\n",
    "if nombre == tirage:\n",
    "    print(f\"bravo ! vous avez trouvé le bon nombre en {essais} essais !\")\n",
    "else:\n",
    "    print(f\"perdu ! vous avez perdu en {essais} essais, le bon nombre était {tirage}\")"
   ]
  },
  {
   "cell_type": "markdown",
   "metadata": {},
   "source": [
    "## Consommation d'un data-center\n",
    "\n",
    "Chaque année la consommation énergétique d'un data center est estimée augmenter de 8 %.\n",
    "\n",
    "On considérera un data-center moyen, consommant à l'an 0, environ 20 million de kWh.\n",
    "\n",
    "1. Déterminer le nombre d'années nécessaires au doublement de la consommation énergétique de ce data center."
   ]
  },
  {
   "cell_type": "code",
   "execution_count": 6,
   "metadata": {},
   "outputs": [
    {
     "name": "stdout",
     "output_type": "stream",
     "text": [
      "pour obtenir le doublement de la consommation il faut 10 années\n"
     ]
    }
   ],
   "source": [
    "compteur = 0\n",
    "consommation_initiale = 20000000\n",
    "conso = consommation_initiale\n",
    "while conso < 2 * consommation_initiale:\n",
    "    conso = conso * 1.08\n",
    "    compteur += 1\n",
    "print(f\"pour obtenir le doublement de la consommation il faut {compteur} années\")"
   ]
  },
  {
   "cell_type": "markdown",
   "metadata": {},
   "source": [
    "2. Refaire le calcul pour un data-center 10 fois plus gros.\n",
    "3. Conclure"
   ]
  },
  {
   "cell_type": "code",
   "execution_count": 8,
   "metadata": {},
   "outputs": [
    {
     "name": "stdout",
     "output_type": "stream",
     "text": [
      "pour obtenir le doublement de la consommation il faut 10 années\n"
     ]
    }
   ],
   "source": [
    "compteur = 0\n",
    "consommation_initiale = 200000000\n",
    "conso = consommation_initiale\n",
    "while conso < 2 * consommation_initiale:\n",
    "    conso = conso * 1.08\n",
    "    compteur += 1\n",
    "print(f\"pour obtenir le doublement de la consommation il faut {compteur} années\")"
   ]
  },
  {
   "cell_type": "markdown",
   "metadata": {},
   "source": [
    "## L'argent de poche de Crésus\n",
    "\n",
    "À la naissance de Crésus, son grand-père Midas, lui ouvre un compte bancaire en y versant une première fois 100 €. Ensuite, à chaque anniversaire, le grand père de Crésus verse sur son compte 100 €, auxquels il ajoute le double de l’âge de Crésus.\n",
    "\n",
    "Par exemple, lorsqu’elle a deux ans, son grand-père lui verse 104 € ce qui fait un total versé de 100 + 102 + 104 = 306 € à la deuxième année.\n",
    "\n",
    "1. Écrire un programme qui demande à un utilisateur l'age de Crésus (valeur entière) et qui affiche la somme présente sur le compte de Crésus à cet age."
   ]
  },
  {
   "cell_type": "code",
   "execution_count": 4,
   "metadata": {},
   "outputs": [
    {
     "name": "stdout",
     "output_type": "stream",
     "text": [
      "quel est l'age de cresus 58\n",
      "La somme sur le compte de Crésus est de 9322 euros, lorsqu'elle a 58 ans\n"
     ]
    }
   ],
   "source": [
    "age = int(input(\"quel est l'age de cresus \"))\n",
    "compte = 100\n",
    "for i in range(age):\n",
    "    compte = compte + 100 + 2 * (i + 1)\n",
    "print(f\"La somme sur le compte de Crésus est de {compte} euros, lorsqu'elle a {age} ans\")    "
   ]
  },
  {
   "cell_type": "markdown",
   "metadata": {},
   "source": [
    "Midas dépose cet argent dans une banque qui crédite un revenu de 1% sur le capital de crésus chaque année. \n",
    "\n",
    "2. Compléter votre programme précédent pour tenir compte de ce revenu supplémentaire."
   ]
  },
  {
   "cell_type": "code",
   "execution_count": 5,
   "metadata": {},
   "outputs": [
    {
     "name": "stdout",
     "output_type": "stream",
     "text": [
      "quel est l'age de cresus 5\n",
      "La somme sur le compte de Crésus est de 645.6045180299999 euros, lorsqu'elle a 5 ans\n"
     ]
    }
   ],
   "source": [
    "age = int(input(\"quel est l'age de cresus \"))\n",
    "compte = 100\n",
    "for i in range(age):\n",
    "    compte = compte * 1.01\n",
    "    compte = compte + 100 + 2 * (i + 1)\n",
    "print(f\"La somme sur le compte de Crésus est de {compte} euros, lorsqu'elle a {age} ans\")    "
   ]
  },
  {
   "cell_type": "markdown",
   "metadata": {},
   "source": [
    "3. Ecrire un programme qui permet de savoir à quel âge Crésus aura dépassé les 2000 € sur son compte. Réaliser un affichage de son capital à chacun de ses anniversaires."
   ]
  },
  {
   "cell_type": "code",
   "execution_count": 2,
   "metadata": {},
   "outputs": [
    {
     "name": "stdout",
     "output_type": "stream",
     "text": [
      "A 16 ans il y a 2129.132941188065 euros sur son compte\n"
     ]
    }
   ],
   "source": [
    "age = 0\n",
    "compte = 100\n",
    "while compte < 2000:\n",
    "    age += 1\n",
    "    compte = compte * 1.01\n",
    "    compte = compte + 100 + 2 * age\n",
    "print(f\"A {age} ans il y a {compte} euros sur son compte\")"
   ]
  },
  {
   "cell_type": "markdown",
   "metadata": {},
   "source": [
    "## Convergence\n",
    "\n",
    "1. Ecrire un programme qui demande un entier strictement positif à l'utilisateur puis, tant que cet entier n'est pas égal à 1, le divise par deux s'il est pair ou le multiplie par trois et ajoute un s'il est impair. Afficher tous les nombres ainsi obtenus. Essayer avec différents nombres de départ."
   ]
  },
  {
   "cell_type": "code",
   "execution_count": 2,
   "metadata": {},
   "outputs": [
    {
     "name": "stdout",
     "output_type": "stream",
     "text": [
      "rentrez un nombre strictement positif 7\n",
      "22\n",
      "11\n",
      "34\n",
      "17\n",
      "52\n",
      "26\n",
      "13\n",
      "40\n",
      "20\n",
      "10\n",
      "5\n",
      "16\n",
      "8\n",
      "4\n",
      "2\n",
      "1\n"
     ]
    }
   ],
   "source": [
    "nombre = int(input(\"rentrez un nombre strictement positif \"))\n",
    "while nombre != 1:\n",
    "    if nombre % 2 == 0:\n",
    "        nombre = nombre // 2\n",
    "    else:\n",
    "        nombre = nombre * 3 + 1\n",
    "    print(nombre)"
   ]
  },
  {
   "cell_type": "markdown",
   "metadata": {},
   "source": [
    "2. Modifier le programme précédent pour qu'il affiche  au final le nombre d'étapes pour arriver au nombre 1 et le nombre maximal qui a été rencontré en chemin. \n",
    "\n",
    "> Vérification : pour le nombre de départ 7, le nombre d'étapes doit être 16 et le nombre maximal rencontré 52."
   ]
  },
  {
   "cell_type": "code",
   "execution_count": 5,
   "metadata": {},
   "outputs": [
    {
     "name": "stdout",
     "output_type": "stream",
     "text": [
      "rentrez un nombre strictement positif 89\n",
      "il a fallu 30 étapes et le maximum rencontré fut 304\n"
     ]
    }
   ],
   "source": [
    "nombre = int(input(\"rentrez un nombre strictement positif \"))\n",
    "etape = 0\n",
    "maximum = nombre\n",
    "while nombre != 1:\n",
    "    if nombre % 2 == 0:\n",
    "        nombre = nombre // 2\n",
    "    else:\n",
    "        nombre = nombre * 3 + 1\n",
    "    if nombre > maximum:\n",
    "        maximum = nombre\n",
    "    etape += 1\n",
    "print(f\"il a fallu {etape} étapes et le maximum rencontré fut {maximum}\")"
   ]
  },
  {
   "cell_type": "markdown",
   "metadata": {},
   "source": [
    "3. Modifier encore le programme pour tester tous les nombres de départ entre 1 et 20 et afficher pour chacun le nombre d'étapes et le maximum rencontré.\n",
    "\n",
    "> Quel est le nom de départ donnant le plus grand nombre d'étapes ?   \n",
    "> Et celui donnant le plus grand maximum obtenu ?   \n",
    ">Tester ensuite au-delà de 20."
   ]
  },
  {
   "cell_type": "code",
   "execution_count": 1,
   "metadata": {},
   "outputs": [
    {
     "name": "stdout",
     "output_type": "stream",
     "text": [
      "le nombre testé est 1\n",
      "il a fallu 0 étapes et le maximum rencontré fut 1\n",
      "le nombre testé est 2\n",
      "il a fallu 1 étapes et le maximum rencontré fut 2\n",
      "le nombre testé est 3\n",
      "il a fallu 7 étapes et le maximum rencontré fut 16\n",
      "le nombre testé est 4\n",
      "il a fallu 2 étapes et le maximum rencontré fut 4\n",
      "le nombre testé est 5\n",
      "il a fallu 5 étapes et le maximum rencontré fut 16\n",
      "le nombre testé est 6\n",
      "il a fallu 8 étapes et le maximum rencontré fut 16\n",
      "le nombre testé est 7\n",
      "il a fallu 16 étapes et le maximum rencontré fut 52\n",
      "le nombre testé est 8\n",
      "il a fallu 3 étapes et le maximum rencontré fut 8\n",
      "le nombre testé est 9\n",
      "il a fallu 19 étapes et le maximum rencontré fut 52\n",
      "le nombre testé est 10\n",
      "il a fallu 6 étapes et le maximum rencontré fut 16\n",
      "le nombre testé est 11\n",
      "il a fallu 14 étapes et le maximum rencontré fut 52\n",
      "le nombre testé est 12\n",
      "il a fallu 9 étapes et le maximum rencontré fut 16\n",
      "le nombre testé est 13\n",
      "il a fallu 9 étapes et le maximum rencontré fut 40\n",
      "le nombre testé est 14\n",
      "il a fallu 17 étapes et le maximum rencontré fut 52\n",
      "le nombre testé est 15\n",
      "il a fallu 17 étapes et le maximum rencontré fut 160\n",
      "le nombre testé est 16\n",
      "il a fallu 4 étapes et le maximum rencontré fut 16\n",
      "le nombre testé est 17\n",
      "il a fallu 12 étapes et le maximum rencontré fut 52\n",
      "le nombre testé est 18\n",
      "il a fallu 20 étapes et le maximum rencontré fut 52\n",
      "le nombre testé est 19\n",
      "il a fallu 20 étapes et le maximum rencontré fut 88\n",
      "le nombre testé est 20\n",
      "il a fallu 7 étapes et le maximum rencontré fut 20\n"
     ]
    }
   ],
   "source": [
    "for i in range(20):\n",
    "    nombre = i + 1\n",
    "    etape = 0\n",
    "    maximum = nombre\n",
    "    print(f\"le nombre testé est {nombre}\")\n",
    "    while nombre != 1:\n",
    "        if nombre % 2 == 0:\n",
    "            nombre = nombre // 2\n",
    "        else:\n",
    "            nombre = nombre * 3 + 1\n",
    "        if nombre > maximum:\n",
    "            maximum = nombre\n",
    "        etape += 1\n",
    "    print(f\"il a fallu {etape} étapes et le maximum rencontré fut {maximum}\")"
   ]
  },
  {
   "cell_type": "markdown",
   "metadata": {},
   "source": [
    "## Le jeu des allumettes ([Jeu de Nim](https://fr.wikipedia.org/wiki/Jeux_de_Nim))\n",
    "\n",
    "Ce jeu se joue à deux.\n",
    "\n",
    "Initialement, 21 allumettes sont posées sur la table. A tour de rôle, chaque joueur enlève une, deux ou trois allumettes. Celui qui enlève la dernière allumette a perdu.\n",
    "\n",
    "1. Ecrire un programme qui permet à un joueur de jouer contre l'ordinateur. L'ordinateur retirera une, deux ou trois allumettes de façon aléatoire.\n",
    "\n",
    "> __Remarques :__\n",
    "- Au début de chaque tour,, on affichera le nombre d'allumettes restantes.\n",
    "- L'ordinateur ne peut évidemment pas retirer plus d'allumettes qu'il n'en reste."
   ]
  },
  {
   "cell_type": "code",
   "execution_count": 16,
   "metadata": {},
   "outputs": [
    {
     "name": "stdout",
     "output_type": "stream",
     "text": [
      "choisissez le nombre d'allumettes à enlever 3\n",
      "il reste 18 allumettes \n",
      "l'ordinateur a enlevé 3 allumettes\n",
      "au tour 1 il reste 15 allumettes\n",
      "choisissez le nombre d'allumettes à enlever 3\n",
      "il reste 12 allumettes \n",
      "l'ordinateur a enlevé 3 allumettes\n",
      "au tour 2 il reste 9 allumettes\n",
      "choisissez le nombre d'allumettes à enlever 3\n",
      "il reste 6 allumettes \n",
      "l'ordinateur a enlevé 1 allumettes\n",
      "au tour 3 il reste 5 allumettes\n",
      "choisissez le nombre d'allumettes à enlever 3\n",
      "il reste 2 allumettes \n",
      "l'ordinateur a enlevé 1 allumettes\n",
      "au tour 4 il reste 1 allumettes\n",
      "choisissez le nombre d'allumettes à enlever 3\n",
      "il reste -2 allumettes \n",
      "la partie est terminée\n"
     ]
    }
   ],
   "source": [
    "from random import randint\n",
    "allumettes = 21\n",
    "tour = 0\n",
    "while allumettes > 0:\n",
    "    choix = int(input(\"choisissez le nombre d'allumettes à enlever \"))\n",
    "    assert 0 < choix <= 3, \"vous ne pouvez pas enlever plus de 3 allumettes, ou valeur impossible\"\n",
    "    allumettes = allumettes - choix\n",
    "    print(f\"il reste {allumettes} allumettes \")\n",
    "    if allumettes <= 0:\n",
    "        break\n",
    "    choix = randint(1,3)\n",
    "    while choix > allumettes:\n",
    "        choix = randit(1,3)\n",
    "    allumettes = allumettes - choix\n",
    "    print(f\"l'ordinateur a enlevé {choix} allumettes\")\n",
    "    tour += 1\n",
    "    print(f\"au tour {tour} il reste {allumettes} allumettes\")\n",
    "print(\"la partie est terminée\")"
   ]
  },
  {
   "cell_type": "markdown",
   "metadata": {},
   "source": [
    "2. Améliorer votre programme pour donner le nom du gagnant lorsque la dernière allumette est retirée."
   ]
  },
  {
   "cell_type": "code",
   "execution_count": 19,
   "metadata": {},
   "outputs": [
    {
     "name": "stdout",
     "output_type": "stream",
     "text": [
      "choisissez le nombre d'allumettes à enlever 4\n",
      "choisissez le nombre d'allumettes à enlever 4\n",
      "choisissez le nombre d'allumettes à enlever 2\n",
      "il reste 19 allumettes \n",
      "l'ordinateur a enlevé 1 allumettes\n",
      "au tour 1 il reste 18 allumettes\n",
      "choisissez le nombre d'allumettes à enlever 4\n",
      "choisissez le nombre d'allumettes à enlever 2\n",
      "il reste 16 allumettes \n",
      "l'ordinateur a enlevé 1 allumettes\n",
      "au tour 2 il reste 15 allumettes\n",
      "choisissez le nombre d'allumettes à enlever 3\n",
      "il reste 12 allumettes \n",
      "l'ordinateur a enlevé 3 allumettes\n",
      "au tour 3 il reste 9 allumettes\n",
      "choisissez le nombre d'allumettes à enlever 5\n",
      "choisissez le nombre d'allumettes à enlever 3\n",
      "il reste 6 allumettes \n",
      "l'ordinateur a enlevé 2 allumettes\n",
      "au tour 4 il reste 4 allumettes\n",
      "choisissez le nombre d'allumettes à enlever 1\n",
      "il reste 3 allumettes \n",
      "l'ordinateur a enlevé 1 allumettes\n",
      "au tour 5 il reste 2 allumettes\n",
      "choisissez le nombre d'allumettes à enlever 2\n",
      "il reste 0 allumettes \n",
      "la partie est terminée\n",
      "vous avez perdu !\n"
     ]
    }
   ],
   "source": [
    "from random import randint\n",
    "allumettes = 21\n",
    "tour = 0\n",
    "joueur_gagnant = True\n",
    "while allumettes > 0:\n",
    "    choix = int(input(\"choisissez le nombre d'allumettes à enlever \"))\n",
    "    while choix > 3 or choix > allumettes:\n",
    "        choix = int(input(\"choisissez le nombre d'allumettes à enlever \"))\n",
    "    allumettes = allumettes - choix\n",
    "    print(f\"il reste {allumettes} allumettes \")\n",
    "    if allumettes <= 0:\n",
    "        joueur_gagnant = False \n",
    "        break\n",
    "    choix = randint(1,3)\n",
    "    while choix > allumettes:\n",
    "        choix = randint(1,3)\n",
    "    allumettes = allumettes - choix\n",
    "    print(f\"l'ordinateur a enlevé {choix} allumettes\")\n",
    "    tour += 1\n",
    "    print(f\"au tour {tour} il reste {allumettes} allumettes\")\n",
    "print(\"la partie est terminée\")\n",
    "if joueur_gagnant:\n",
    "    print(\"bravo vous avez gagné !\")\n",
    "else:\n",
    "    print(\"vous avez perdu !\")"
   ]
  },
  {
   "cell_type": "markdown",
   "metadata": {},
   "source": [
    "3. Améliorer votre programme pour éviter que l'utilisateur ne puisse faire ne saisie illégale (différente d'un chiffre inférieur ou égal aux nombre d'allumettes restantes)"
   ]
  },
  {
   "cell_type": "code",
   "execution_count": null,
   "metadata": {},
   "outputs": [],
   "source": [
    "from random import randint\n",
    "allumettes = 21\n",
    "tour = 0\n",
    "joueur_gagnant = True\n",
    "while allumettes > 0:\n",
    "    choix = int(input(\"choisissez le nombre d'allumettes à enlever \"))\n",
    "    while choix > 3 or choix > allumettes:\n",
    "        choix = int(input(\"choisissez le nombre d'allumettes à enlever \"))\n",
    "    allumettes = allumettes - choix\n",
    "    print(f\"il reste {allumettes} allumettes \")\n",
    "    if allumettes <= 0:\n",
    "        joueur_gagnant = False \n",
    "        break\n",
    "    choix = randint(1,3)\n",
    "    while choix > allumettes:\n",
    "        choix = randint(1,3)\n",
    "    allumettes = allumettes - choix\n",
    "    print(f\"l'ordinateur a enlevé {choix} allumettes\")\n",
    "    tour += 1\n",
    "    print(f\"au tour {tour} il reste {allumettes} allumettes\")\n",
    "print(\"la partie est terminée\")\n",
    "if joueur_gagnant:\n",
    "    print(\"bravo vous avez gagné !\")\n",
    "else:\n",
    "    print(\"vous avez perdu !\")"
   ]
  },
  {
   "cell_type": "markdown",
   "metadata": {},
   "source": [
    "4. Il existe une stratégie gagnante pour le joueur qui joue en second. La trouver et la programmer, de manière à ce que l'ordinateur gagne systématiquement."
   ]
  },
  {
   "cell_type": "code",
   "execution_count": 21,
   "metadata": {},
   "outputs": [
    {
     "name": "stdout",
     "output_type": "stream",
     "text": [
      "choisissez le nombre d'allumettes à enlever 3\n",
      "il reste 18 allumettes \n",
      "l'ordinateur a enlevé 1 allumettes\n",
      "au tour 1 il reste 18 allumettes\n",
      "choisissez le nombre d'allumettes à enlever 3\n",
      "il reste 15 allumettes \n",
      "l'ordinateur a enlevé 1 allumettes\n",
      "au tour 2 il reste 15 allumettes\n",
      "choisissez le nombre d'allumettes à enlever 3\n",
      "il reste 12 allumettes \n",
      "l'ordinateur a enlevé 1 allumettes\n",
      "au tour 3 il reste 12 allumettes\n",
      "choisissez le nombre d'allumettes à enlever 3\n",
      "il reste 9 allumettes \n",
      "l'ordinateur a enlevé 1 allumettes\n",
      "au tour 4 il reste 9 allumettes\n",
      "choisissez le nombre d'allumettes à enlever 3\n",
      "il reste 6 allumettes \n",
      "l'ordinateur a enlevé 1 allumettes\n",
      "au tour 5 il reste 6 allumettes\n",
      "choisissez le nombre d'allumettes à enlever 3\n",
      "il reste 3 allumettes \n",
      "l'ordinateur a enlevé 1 allumettes\n",
      "au tour 6 il reste 3 allumettes\n",
      "choisissez le nombre d'allumettes à enlever 3\n",
      "il reste 0 allumettes \n",
      "la partie est terminée\n",
      "vous avez perdu !\n"
     ]
    }
   ],
   "source": [
    "allumettes = 21\n",
    "tour = 0\n",
    "joueur_gagnant = True\n",
    "while allumettes > 0:\n",
    "    choix = int(input(\"choisissez le nombre d'allumettes à enlever \"))\n",
    "    while choix > 3 or choix > allumettes:\n",
    "        choix = int(input(\"choisissez le nombre d'allumettes à enlever \"))\n",
    "    allumettes = allumettes - choix\n",
    "    print(f\"il reste {allumettes} allumettes \")\n",
    "    if allumettes <= 0:\n",
    "        joueur_gagnant = False \n",
    "        break\n",
    "    if choix == 1:\n",
    "        choix = 3\n",
    "    elif choix == 2:\n",
    "        choix = 2\n",
    "    else:\n",
    "        choix = 1\n",
    "    print(f\"l'ordinateur a enlevé {choix} allumettes\")\n",
    "    tour += 1\n",
    "    print(f\"au tour {tour} il reste {allumettes} allumettes\")\n",
    "print(\"la partie est terminée\")\n",
    "if joueur_gagnant:\n",
    "    print(\"bravo vous avez gagné !\")\n",
    "else:\n",
    "    print(\"vous avez perdu !\")"
   ]
  },
  {
   "cell_type": "markdown",
   "metadata": {},
   "source": [
    "## Questions issues de la Banque Nationale de Sujets"
   ]
  },
  {
   "cell_type": "markdown",
   "metadata": {},
   "source": [
    "Quelle est la valeur du couple (s, i) à la fin de l'exécution du script suivant ?\n",
    "\n",
    "```python\n",
    "s = 0\n",
    "i = 1\n",
    "while i < 5:\n",
    "    s = s + i\n",
    "    i = i + 1\n",
    "```\n",
    "Réponses :\n",
    "\n",
    "A- (4, 5)\n",
    "\n",
    "B- (10, 4)\n",
    "\n",
    "C- (10, 5)\n",
    "\n",
    "D- (15, 5)"
   ]
  },
  {
   "cell_type": "markdown",
   "metadata": {},
   "source": [
    "n étant un entier strictement positif, la fonction suivante calcule sa factorielle, c'est-à-dire le produit 1×2×3×⋯×(n−1)×n.\n",
    "\n",
    "Comment faut-il écrire la ligne en pointillée ci-dessous pour ce faire ?\n",
    "\n",
    "```python\n",
    "def factorielle(n):\n",
    "    f = 1\n",
    "    .........\n",
    "        f = f * i\n",
    "    return f\n",
    "```\n",
    "\n",
    "Réponses :\n",
    "\n",
    "A- for i in range(1, n):\n",
    "\n",
    "B- for i in range(n + 1):\n",
    "\n",
    "C- for i in range(0, n):\n",
    "\n",
    "D- for i in range(1, n + 1):"
   ]
  },
  {
   "cell_type": "markdown",
   "metadata": {},
   "source": [
    "On exécute le script suivant :\n",
    "\n",
    "```python\n",
    "a = 4\n",
    "b = 4\n",
    "c = 4\n",
    "while a < 5:\n",
    "    a = a - 1\n",
    "    b = b + 1\n",
    "    c = c * b\n",
    "```\n",
    "\n",
    "Que peut-on dire ?\n",
    "\n",
    "Réponses :\n",
    "\n",
    "A- ce programme ne termine pas\n",
    "\n",
    "B- à la fin de l'exécution, la variable a vaut 5\n",
    "\n",
    "C- à la fin de l'exécution, la variable b vaut 34\n",
    "\n",
    "D- à la fin de l'exécution, la variable c vaut 42"
   ]
  },
  {
   "cell_type": "markdown",
   "metadata": {},
   "source": [
    "On souhaite écrire une fonction qui renvoie le maximum d'une liste d'entiers :\n",
    "\n",
    "```python\n",
    "def maximum(L):\n",
    "    m = L[0]\n",
    "    for i in range(1,len(L)):\n",
    "        if .........:\n",
    "            m = L[i]\n",
    "    return m\n",
    "```\n",
    "\n",
    "Par quoi faut-il remplacer les pointillés pour que cette fonction produise bien le résultat attendu ?\n",
    "\n",
    "Réponses :\n",
    "\n",
    "A- i > m\n",
    "\n",
    "B- L[i] > m\n",
    "\n",
    "C- L[i] > L[i-1]\n",
    "\n",
    "D- L[i] > L[i+1]"
   ]
  },
  {
   "cell_type": "markdown",
   "metadata": {},
   "source": [
    "Quelle est la valeur de c à la fin de l'exécution du code suivant :\n",
    "\n",
    "```python\n",
    "L = [1, 2, 3, 4, 1, 2, 3, 4, 0, 2]\n",
    "c = 0\n",
    "for k in L:\n",
    "    if k == L[1]:\n",
    "        c = c + 1\n",
    "```\n",
    "\n",
    "Réponses :\n",
    "\n",
    "A- 0\n",
    "\n",
    "B- 2\n",
    "\n",
    "C- 3\n",
    "\n",
    "D- 10"
   ]
  },
  {
   "cell_type": "markdown",
   "metadata": {},
   "source": [
    "Que renvoie la fonction suivante quand on l'appelle avec un nombre entier et une liste d'entiers ?\n",
    "\n",
    "```python\n",
    "def mystere(n, L):\n",
    "    for x in L:\n",
    "        if n == x:\n",
    "            return True\n",
    "    return False\n",
    "```\n",
    "\n",
    "Réponses :\n",
    "\n",
    "A- une valeur booléenne indiquant si le nombre n est présent au moins une fois dans la liste L\n",
    "\n",
    "B- une valeur booléenne indiquant si le nombre n est présent plusieurs fois dans la liste L\n",
    "\n",
    "C- une valeur booléenne indiquant si le nombre n est le plus grand de la liste L\n",
    "\n",
    "D- une valeur booléenne indiquant si le nombre n est le plus petit de la liste L"
   ]
  },
  {
   "cell_type": "markdown",
   "metadata": {},
   "source": [
    "La fonction mystere suivante prend en argument un tableau d'entiers.\n",
    "\n",
    "```python\n",
    "def mystere(t):\n",
    "    for i in range(len(t) - 1):\n",
    "        if t[i] + 1 != t[i + 1]:\n",
    "            return False\n",
    "    return True\n",
    "```\n",
    "\n",
    "À quelle condition la valeur renvoyée par la fonction est-elle True ?\n",
    "\n",
    "Réponses :\n",
    "\n",
    "A- si le tableau passé en argument est une suite d'entiers consécutifs\n",
    "\n",
    "B- si le tableau passé en argument est trié en ordre croissant\n",
    "\n",
    "C- si le tableau passé en argument est trié en ordre décroissant\n",
    "\n",
    "D- si le tableau passé en argument contient des entiers tous identiques"
   ]
  },
  {
   "cell_type": "markdown",
   "metadata": {},
   "source": [
    "T est un tableau de nombres entiers non vide. Que représente la valeur de s renvoyée par cette fonction ?\n",
    "\n",
    "```python\n",
    "def mystere(T):\n",
    "    s = 0\n",
    "    for k in T:\n",
    "        if k % 2 == 0:\n",
    "            s = s + k\n",
    "    return s\n",
    "```\n",
    "\n",
    "Réponses :\n",
    "\n",
    "A- la somme des valeurs du tableau T\n",
    "\n",
    "B- la somme des valeurs positives du tableau T\n",
    "\n",
    "C- la somme des valeurs impaires du tableau T\n",
    "\n",
    "D- la somme des valeurs paires du tableau T"
   ]
  },
  {
   "cell_type": "markdown",
   "metadata": {},
   "source": [
    "On considère le code incomplet suivant qui recherche le maximum dans une liste.\n",
    "\n",
    "```python\n",
    "liste = [5, 12, 15, 3, 15, 17, 29, 1]\n",
    "iMax = 0\n",
    "for i in range(1, len(liste)):\n",
    "    ............\n",
    "    iMax = i\n",
    "print (liste[iMax])\n",
    "```\n",
    "\n",
    "Par quoi faut-il remplacer la ligne pointillée ?\n",
    "\n",
    "Réponses :\n",
    "\n",
    "A- if i > iMax:\n",
    "\n",
    "B- if liste[i] > liste[iMax]:\n",
    "\n",
    "C- if liste[i] > iMax:\n",
    "\n",
    "D- if i > liste[iMax]:"
   ]
  },
  {
   "cell_type": "markdown",
   "metadata": {},
   "source": [
    "Quelle est la valeur de element à la fin de l'exécution du code suivant :\n",
    "\n",
    "```python\n",
    "L = [1,2,3,4,1,2,3,4,0,2]\n",
    "element = L[0]\n",
    "for k in L:\n",
    "    if k > element:\n",
    "element = k\n",
    "```\n",
    "\n",
    "Réponses :\n",
    "\n",
    "A- 0\n",
    "\n",
    "B- 1\n",
    "\n",
    "C- 4\n",
    "\n",
    "D- 10"
   ]
  },
  {
   "cell_type": "markdown",
   "metadata": {},
   "source": [
    "La fonction suivante doit calculer la moyenne d’un tableau de nombres, passé en paramètre. Avec quelles expressions faut-il remplacer les points de suspension pour que la fonction soit correcte ?\n",
    "\n",
    "```python\n",
    "def moyenne(tableau):\n",
    "    total = ...\n",
    "    for valeur in tableau:\n",
    "        total = total + valeur\n",
    "    return total / ...\n",
    "```\n",
    "\n",
    "Réponses :\n",
    "\n",
    "A- 1 et (len(tableau) + 1)\n",
    "\n",
    "B- 1 et len(tableau)\n",
    "\n",
    "C- 0 et (len(tableau) + 1)\n",
    "\n",
    "D- 0 et len(tableau)"
   ]
  },
  {
   "cell_type": "markdown",
   "metadata": {},
   "source": [
    "Quelle est la valeur de la variable n à la fin de l'exécution du script ci-dessous ?\n",
    "\n",
    "```python\n",
    "n = 1\n",
    "while n != 20:\n",
    "    n = n + 2\n",
    "```\n",
    "\n",
    "Réponses :\n",
    "\n",
    "A- 1\n",
    "\n",
    "B- 20\n",
    "\n",
    "C- 22\n",
    "\n",
    "D- le programme ne termine pas, la boucle tourne indéfiniment"
   ]
  },
  {
   "cell_type": "markdown",
   "metadata": {},
   "source": [
    "Soit 𝑛 un entier naturel. Sa factorielle est le produit des nombres entiers strictement positifs qui sont plus petits ou égaux à 𝑛. Par exemple la factorielle de 4 vaut 1 × 2 × 3 × 4 = 24. Quelle est la fonction correcte parmi les suivantes ?\n",
    "\n",
    "Réponses :\n",
    "\n",
    "A-\n",
    "```python\n",
    "def factorielle(n):\n",
    "    i = 0\n",
    "    fact = 1\n",
    "    while i <= n:\n",
    "        fact = fact * i\n",
    "        i = i + 1\n",
    "    return fact \n",
    "```\n",
    "B-\n",
    "```python\n",
    "def factorielle(n):\n",
    "    i = 1\n",
    "    fact = 1\n",
    "    while i < n:\n",
    "        fact = fact * i\n",
    "        i = i + 1\n",
    "    return fact \n",
    "```\n",
    "C-\n",
    "```python\n",
    "def factorielle(n):\n",
    "    i = 0\n",
    "    fact = 1\n",
    "    while i < n:\n",
    "        i = i + 1\n",
    "        fact = fact * i\n",
    "    return fact \n",
    "```\n",
    "D-\n",
    "```python\n",
    "def factorielle(n):\n",
    "    i = 0\n",
    "    fact = 1\n",
    "    while i <= n:\n",
    "        i = i + 1\n",
    "        fact = fact * i\n",
    "    return fact\n",
    "```"
   ]
  },
  {
   "cell_type": "markdown",
   "metadata": {},
   "source": [
    "On exécute le script suivant :\n",
    "\n",
    "```python\n",
    "for i in range(n):\n",
    "    for j in range(i):\n",
    "        print('NSI')\n",
    "```\n",
    "\n",
    "Combien de fois le mot NSI est-il affiché ?\n",
    "\n",
    "Réponses :\n",
    "\n",
    "A- $n^2$\n",
    "\n",
    "B- $(n+1)^2$\n",
    "\n",
    "C- 1+2+...+(n−1)\n",
    "\n",
    "D- 1+2+...+(n−1)+n"
   ]
  },
  {
   "cell_type": "markdown",
   "metadata": {},
   "source": [
    "La fonction suivante doit calculer le produit de tous les éléments de la liste passée en paramètre. Avec quelles expressions doit-on la compléter pour que cette fonction soit correcte ?\n",
    "\n",
    "```python\n",
    "def produit (L):\n",
    "    p = ...\n",
    "    for elt in L:\n",
    "        .......\n",
    "    return p\n",
    "```\n",
    "\n",
    "Réponses :\n",
    "\n",
    "A- 1 puis p = p * elt\n",
    "\n",
    "B- 0 puis p = p * elt\n",
    "\n",
    "C- 1 puis p = elt\n",
    "\n",
    "D- 0 puis p = elt"
   ]
  },
  {
   "cell_type": "markdown",
   "metadata": {},
   "source": [
    "On considère un entier positif A.\n",
    "Parmi les quatre codes suivants, il y en a un dont l'exécution ne termine pas. Lequel ?\n",
    "\n",
    "Réponses :\n",
    "\n",
    "A-\n",
    "```python\n",
    "i = A + 1\n",
    "while i < A:\n",
    "    i = i - 1\n",
    "```\n",
    "B-\n",
    "```python\n",
    "i = A + 1\n",
    "while i < A:\n",
    "    i = i + 1\n",
    "```\n",
    "C-\n",
    "```python\n",
    "i = A - 1\n",
    "while i < A:\n",
    "    i = i - 1\n",
    "```\n",
    "D-\n",
    "```python\n",
    "i = A - 1\n",
    "while i < A:\n",
    "    i = i + 1\n",
    "```"
   ]
  },
  {
   "cell_type": "markdown",
   "metadata": {},
   "source": [
    "---\n",
    "[![Licence CC BY NC SA](https://licensebuttons.net/l/by-nc-sa/3.0/88x31.png \"licence Creative Commons CC BY-NC-SA\")](http://creativecommons.org/licenses/by-nc-sa/3.0/fr/)\n",
    "<p style=\"text-align: center;\">Auteur : David Landry, Lycée Clemenceau - Nantes</p>\n",
    "<p style=\"text-align: center;\">D'après des documents partagés par...</p>\n",
    "<p style=\"text-align: center;\"><a  href=http://www.monlyceenumerique.fr/index_nsi.html#premiere>Jean-Christophe Gérard, Thomas Lourdet, Johan Monteillet, Pascal Thérèse</a></p>\n",
    "<p style=\"text-align: center;\"><a  href=https://www.nsi-premiere.fr/index.html>Manuel NSI, de Balabonski, Conchon, Filliâtre et Nguyen</a></p>"
   ]
  }
 ],
 "metadata": {
  "kernelspec": {
   "display_name": "Python 3 (ipykernel)",
   "language": "python",
   "name": "python3"
  },
  "language_info": {
   "codemirror_mode": {
    "name": "ipython",
    "version": 3
   },
   "file_extension": ".py",
   "mimetype": "text/x-python",
   "name": "python",
   "nbconvert_exporter": "python",
   "pygments_lexer": "ipython3",
   "version": "3.11.4"
  }
 },
 "nbformat": 4,
 "nbformat_minor": 2
}
