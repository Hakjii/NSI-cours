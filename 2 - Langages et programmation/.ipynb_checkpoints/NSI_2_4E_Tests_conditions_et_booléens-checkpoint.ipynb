{
 "cells": [
  {
   "cell_type": "markdown",
   "metadata": {},
   "source": [
    "# Exercices : tests, conditions & booléens\n",
    "\n",
    "> **Remarque :** pour beaucoup de ces exercices, il existe de multiples façons de procéder. N'hésitez pas à **faire preuve de créativité pour proposer, lorsque c'est possible, des réponses multiples et variées**."
   ]
  },
  {
   "cell_type": "markdown",
   "metadata": {},
   "source": [
    "## Majorité\n",
    "\n",
    "Écrire un programme qui :\n",
    "- demande l'âge d'une personne\n",
    "- affiche si la personne est majeure où mineure"
   ]
  },
  {
   "cell_type": "code",
   "execution_count": 2,
   "metadata": {},
   "outputs": [
    {
     "name": "stdout",
     "output_type": "stream",
     "text": [
      "rentrez votre âge : 25\n",
      "vous êtes majeur\n"
     ]
    }
   ],
   "source": [
    "age = int(input(\"rentrez votre âge : \"))\n",
    "if age>18 :\n",
    "    print(\"vous êtes majeur\")\n",
    "else :\n",
    "    print(\"vous êtes mineur\")"
   ]
  },
  {
   "cell_type": "markdown",
   "metadata": {},
   "source": [
    "## Eau liquide\n",
    "\n",
    "1. Écrire une suite d'instructions permettant de modéliser l'état de l'eau en fonction de sa température. un utilisateur saisit la température de l'eau à pression ambiante et le programme affiche l'état de l'eau.\n",
    "\n",
    "2. Rajouter une précondition avec l'instruction `assert`, pour tester que la température saisie soit possible, c'est-à-dire supérieure ou égale à -273°C. En cas d'erreur, un message explicite doit être communiqué à l'utilisateur."
   ]
  },
  {
   "cell_type": "code",
   "execution_count": 38,
   "metadata": {},
   "outputs": [
    {
     "name": "stdout",
     "output_type": "stream",
     "text": [
      "rentrez une température : -274\n"
     ]
    },
    {
     "ename": "AssertionError",
     "evalue": "cette température est impossible",
     "output_type": "error",
     "traceback": [
      "\u001b[1;31m---------------------------------------------------------------------------\u001b[0m",
      "\u001b[1;31mAssertionError\u001b[0m                            Traceback (most recent call last)",
      "Cell \u001b[1;32mIn[38], line 2\u001b[0m\n\u001b[0;32m      1\u001b[0m temperature \u001b[38;5;241m=\u001b[39m \u001b[38;5;28mint\u001b[39m(\u001b[38;5;28minput\u001b[39m(\u001b[38;5;124m\"\u001b[39m\u001b[38;5;124mrentrez une température : \u001b[39m\u001b[38;5;124m\"\u001b[39m))\n\u001b[1;32m----> 2\u001b[0m \u001b[38;5;28;01massert\u001b[39;00m temperature \u001b[38;5;241m>\u001b[39m\u001b[38;5;241m-\u001b[39m\u001b[38;5;241m273\u001b[39m ,\u001b[38;5;124m\"\u001b[39m\u001b[38;5;124mcette température est impossible\u001b[39m\u001b[38;5;124m\"\u001b[39m\n\u001b[0;32m      3\u001b[0m \u001b[38;5;28;01mif\u001b[39;00m temperature \u001b[38;5;241m>\u001b[39m \u001b[38;5;241m100\u001b[39m :\n\u001b[0;32m      4\u001b[0m     \u001b[38;5;28mprint\u001b[39m(\u001b[38;5;124m\"\u001b[39m\u001b[38;5;124ml\u001b[39m\u001b[38;5;124m'\u001b[39m\u001b[38;5;124métat est gazeux\u001b[39m\u001b[38;5;124m\"\u001b[39m)\n",
      "\u001b[1;31mAssertionError\u001b[0m: cette température est impossible"
     ]
    }
   ],
   "source": [
    "temperature = int(input(\"rentrez une température : \"))\n",
    "assert temperature >-273 ,\"cette température est impossible\"\n",
    "if temperature > 100 :\n",
    "    print(\"l'état est gazeux\")\n",
    "elif 0 < temperature < 100 :\n",
    "    print(\"l'état est liquide\")\n",
    "else :\n",
    "    print(\"l'état est solide\")\n"
   ]
  },
  {
   "cell_type": "markdown",
   "metadata": {},
   "source": [
    "## Opérateurs logiques\n",
    "\n",
    "**Avant de lancer les codes suivants**, réfléchir à quel sera le booléen résultat. **Ensuite**, vérifier en exécutant chaque code."
   ]
  },
  {
   "cell_type": "code",
   "execution_count": 8,
   "metadata": {},
   "outputs": [
    {
     "name": "stdout",
     "output_type": "stream",
     "text": [
      "False\n"
     ]
    }
   ],
   "source": [
    "a = 6\n",
    "print(a >= 5 and a < 6)"
   ]
  },
  {
   "cell_type": "code",
   "execution_count": 9,
   "metadata": {},
   "outputs": [
    {
     "name": "stdout",
     "output_type": "stream",
     "text": [
      "True\n"
     ]
    }
   ],
   "source": [
    "b = -1\n",
    "print(b <= 0 or b >= 5)"
   ]
  },
  {
   "cell_type": "code",
   "execution_count": 10,
   "metadata": {},
   "outputs": [
    {
     "name": "stdout",
     "output_type": "stream",
     "text": [
      "False\n"
     ]
    }
   ],
   "source": [
    "phrase = \"Nous sommes heureux et heureuses de faire NSI !\"\n",
    "print('a' not in phrase and 'i' in phrase)"
   ]
  },
  {
   "cell_type": "code",
   "execution_count": 11,
   "metadata": {},
   "outputs": [
    {
     "name": "stdout",
     "output_type": "stream",
     "text": [
      "True\n"
     ]
    }
   ],
   "source": [
    "phrase = \"Quelle chance que de pouvoir aller au lycée !\"\n",
    "print('N' not in phrase or 'é' in phrase)"
   ]
  },
  {
   "cell_type": "markdown",
   "metadata": {},
   "source": [
    "# Tables logiques\n",
    "\n",
    "Vérifier la \"véracité\" des \"tables de vérité\" vues au notebook précédent en interprétant les opérateurs `and`, `or` et `not` avec les booléens `True`et / ou `False`.\n",
    "\n",
    "Un premier exemple ci-dessous avec la table de l'opérateur `and`. Réfléchissez toujours au résultat avant d'éxecuter le code.\n",
    "\n",
    "|A|B|A∧B|\n",
    "|:---:|:---:|:---:|\n",
    "|1|1|1|\n",
    "|1|0|0|\n",
    "|0|1|0|\n",
    "|0|0|0|\n",
    "\n",
    "> **Remarque :** on rappelle qu'en logique on note souvent le Vrai 1 et le Faux 0."
   ]
  },
  {
   "cell_type": "code",
   "execution_count": 12,
   "metadata": {},
   "outputs": [
    {
     "name": "stdout",
     "output_type": "stream",
     "text": [
      "True\n",
      "False\n",
      "False\n",
      "False\n"
     ]
    }
   ],
   "source": [
    "print(True and True)\n",
    "print(True and False)\n",
    "print(False and True)\n",
    "print(False and False)"
   ]
  },
  {
   "cell_type": "markdown",
   "metadata": {},
   "source": [
    "A laide de votre réflexion, remplir les tables suivantes :\n",
    "\n",
    "|A|¬A|\n",
    "|:---:|:---:|\n",
    "|1|0|\n",
    "|0|1|\n",
    "\n",
    "|A|B|¬(A∧B)|\n",
    "|:---:|:---:|:---:|\n",
    "|1|1|0|\n",
    "|1|0|0|\n",
    "|0|1|0|\n",
    "|0|0|1|\n",
    "\n",
    "|A|B|A∨B|\n",
    "|:---:|:---:|:---:|\n",
    "|1|1|1|\n",
    "|1|0|1|\n",
    "|0|1|1|\n",
    "|0|0|0|\n",
    "\n",
    "|A|B|C|(A ∨ B) ∧ C|\n",
    "|:---:|:---:|:---:|:---:|\n",
    "|0|0|0|0|\n",
    "|0|0|1|0|\n",
    "|0|1|0|0|\n",
    "|0|1|1|1|\n",
    "|1|0|0|0|\n",
    "|1|0|1|1|\n",
    "|1|1|0|0|\n",
    "|1|1|1|1|\n",
    "\n",
    "Ensuite, aidez-vous de tests sur python pour vérifier vos réponses :"
   ]
  },
  {
   "cell_type": "code",
   "execution_count": 28,
   "metadata": {},
   "outputs": [
    {
     "name": "stdout",
     "output_type": "stream",
     "text": [
      "False\n",
      "True\n",
      "True\n"
     ]
    }
   ],
   "source": [
    "print(not True)\n",
    "print(not False and not False)\n",
    "print((False or True)and True)"
   ]
  },
  {
   "cell_type": "markdown",
   "metadata": {},
   "source": [
    "## Tarif de cinéma\n",
    "\n",
    "Un cinéma pratique trois types de tarifs pour deux personnes :\n",
    "\n",
    "- si les deux personnes sont mineures, elles payent 6€ chacune\n",
    "- si l'une seulement est mineure, elles payent un tarif de groupe de 14€\n",
    "- si les deux personnes sont majeures, elles payent 18 € en tout\n",
    "\n",
    "Écrire un programme qui :\n",
    "\n",
    "- demande l'âge de chacune des personnes\n",
    "- affiche le prix à payer"
   ]
  },
  {
   "cell_type": "code",
   "execution_count": 31,
   "metadata": {},
   "outputs": [
    {
     "name": "stdout",
     "output_type": "stream",
     "text": [
      "rentrez l'âge de la première personne : 14\n",
      "rentrez l'âge de la deuxième personne : 25\n",
      "le prix est de 14€ \n"
     ]
    }
   ],
   "source": [
    "premiere_personne = int(input(\"rentrez l'âge de la première personne : \"))\n",
    "deuxieme_personne = int(input(\"rentrez l'âge de la deuxième personne : \"))\n",
    "if premiere_personne < 18 and deuxieme_personne < 18 :\n",
    "    print(\"le prix est de 6€ chacun\")\n",
    "elif premiere_personne < 18 or deuxieme_personne < 18 :\n",
    "    print(\"le prix est de 14€ \")\n",
    "else :\n",
    "    print(\"le prix est de 18€\")"
   ]
  },
  {
   "cell_type": "markdown",
   "metadata": {},
   "source": [
    "## Tarif de cinéma (approfondissement)\n",
    "\n",
    "Un cinéma pratique les tarifs suivants :\n",
    "\n",
    "- si les personnes sont mineures, elles payent 6€ chacune\n",
    "- si les personnes sont majeures, elles payent 9€ chacune\n",
    "- si les personnes sont seniors (>= 65 ans), elles payent 7€ chacune\n",
    "\n",
    "Écrire un programme qui :\n",
    "\n",
    "- demande l'âge de chacune des personnes (nombre de personnes indéterminée)\n",
    "- affiche le prix à payer (éventuellement sur une facture détaillée)"
   ]
  },
  {
   "cell_type": "code",
   "execution_count": null,
   "metadata": {},
   "outputs": [],
   "source": []
  },
  {
   "cell_type": "markdown",
   "metadata": {},
   "source": [
    "## Année bissextile\n",
    "\n",
    "Écrire une suite d'instructions permettant de déterminer si une année saisie par l'utilisateur est bissextile.\n",
    "\n",
    "Une année est dite bissextile si c'est un multiple de 4, sauf si c'est un multiple de 100. Mais elle est quand même considérée comme bissextile si c'est un multiple de 400."
   ]
  },
  {
   "cell_type": "code",
   "execution_count": 41,
   "metadata": {},
   "outputs": [
    {
     "name": "stdout",
     "output_type": "stream",
     "text": [
      "rentrez une année : 1000\n",
      "cette année n'est pas bissextile\n"
     ]
    }
   ],
   "source": [
    "annee = int(input(\"rentrez une année : \"))\n",
    "if annee % 400 == 0 :\n",
    "    print(\"cette année est bissextile\")\n",
    "elif annee % 4 == 0 and annee % 100 != 0 :\n",
    "    print(\"cette année est bissextile\")\n",
    "else :\n",
    "    print(\"cette année n'est pas bissextile\")\n"
   ]
  },
  {
   "cell_type": "markdown",
   "metadata": {},
   "source": [
    "## Chaîne de caractères\n",
    "\n",
    "Écrire une suite d'instructions qui affiche un message disant si, oui ou non, un caractère saisi représente un chiffre."
   ]
  },
  {
   "cell_type": "code",
   "execution_count": 43,
   "metadata": {},
   "outputs": [
    {
     "name": "stdout",
     "output_type": "stream",
     "text": [
      "saisir un caractere 1\n",
      "ce caractère est un chiffre\n"
     ]
    }
   ],
   "source": [
    "caractere = input(\"saisir un caractere \")\n",
    "if caractere in '0123456789' :\n",
    "    print(\"ce caractère est un chiffre\")\n",
    "else :\n",
    "    print(\"ce caractère n'est pas un chiffre\")"
   ]
  },
  {
   "cell_type": "markdown",
   "metadata": {},
   "source": [
    "## Pour une minute de plus...\n",
    "\n",
    "Ecrire une suite d'instructions qui calcule l’heure une minute après celle stockée sous la forme de deux variables :\n",
    "\n",
    "```python\n",
    "heure, minute = 10, 20\n",
    "```\n",
    "\n",
    "Exemples :\n",
    "```python\n",
    "heure, minute = 10, 20 \n",
    "affichera 'Il est 10 heures et 21 minutes'\n",
    "    \n",
    "heure, minute = 10, 59 \n",
    "affichera 'Il est 11 heures'\n",
    "```\n",
    "Ne pas oublier le cas de minuit."
   ]
  },
  {
   "cell_type": "code",
   "execution_count": 49,
   "metadata": {},
   "outputs": [
    {
     "name": "stdout",
     "output_type": "stream",
     "text": [
      "il est 00 heure et 00 minutes\n"
     ]
    }
   ],
   "source": [
    "heure, minute = 23, 59\n",
    "if minute == 59 :\n",
    "    minute = '00'\n",
    "    if heure == 23 :\n",
    "        heure = '00'\n",
    "    else :\n",
    "        heure = heure + 1\n",
    "else : \n",
    "    minute = minute + 1\n",
    "print(f\"il est {heure} heure et {minute} minutes\")           "
   ]
  },
  {
   "cell_type": "markdown",
   "metadata": {},
   "source": [
    "## La monnaie SVP (approfondissement)\n",
    "\n",
    "Un distributeur de banque dispose de billets de 10, 20, 50, 100 et 200 euros.\n",
    "\n",
    "Écrire un __programme qui demande la somme désirée et propose une répartition avec le moins de billets possible__.\n",
    "\n",
    "Pour information, le type d'algorithme permettant de résoudre cet exercice s'appelle **algorithme glouton** et sera étudié dans un chapitre en fin d'année.\n",
    "\n",
    "Dans le cas présent, __on cherche à résoudre la question sans utiliser de boucle__."
   ]
  },
  {
   "cell_type": "code",
   "execution_count": 7,
   "metadata": {},
   "outputs": [
    {
     "name": "stdout",
     "output_type": "stream",
     "text": [
      "combien voulez vous retirez ? 45250\n",
      "il faut rendre 226 billets de 200\n",
      "il faut rendre 1 billets de 50\n"
     ]
    }
   ],
   "source": [
    "demande = int(input(\"combien voulez vous retirez ? \"))\n",
    "assert demande % 10 == 0 ,\"vous ne pouvez pas retirer cette somme\"\n",
    "if demande >= 200 :\n",
    "    print(f'il faut rendre {demande // 200} billets de 200')\n",
    "    demande = demande % 200\n",
    "if demande >= 100 :\n",
    "    print(f'il faut rendre {demande // 100} billets de 100')\n",
    "    demande = demande % 100\n",
    "if demande >= 50 :\n",
    "    print(f'il faut rendre {demande // 50} billets de 50')\n",
    "    demande = demande % 50\n",
    "if demande >= 20 :\n",
    "    print(f'il faut rendre {demande // 20} billets de 20')\n",
    "    demande = demande % 20\n",
    "if demande >= 10 :\n",
    "    print(f'il faut rendre {demande // 10} billets de 10')\n",
    "    demande = demande % 10"
   ]
  },
  {
   "cell_type": "markdown",
   "metadata": {},
   "source": [
    "## Questions issues de la Banque Nationale de Sujets"
   ]
  },
  {
   "cell_type": "markdown",
   "metadata": {},
   "source": [
    "**À quelle affectation sont équivalentes les instructions suivantes, où a, b sont des variables entières et c une variable booléenne ?**\n",
    "```python\n",
    "if a == b:\n",
    "    c = True\n",
    "elif a > b + 10:\n",
    "    c = True\n",
    "else:\n",
    "    c = False\n",
    "```\n",
    "**Réponses :**\n",
    "\n",
    "A- c = (a==b) or (a > b+10)\n",
    "\n",
    "B- c = (a==b) and (a > b+10)\n",
    "\n",
    "C- c = not(a==b)\n",
    "\n",
    "D- c = not(a > b+10)"
   ]
  },
  {
   "cell_type": "markdown",
   "metadata": {},
   "source": [
    "**On exécute le script suivant :**\n",
    "```python\n",
    "a, b = 10, 3\n",
    "if a < 10:\n",
    "    a, b = a + 2, b + a\n",
    "```\n",
    "**Quelle est la valeur de b à la fin de son exécution ?**\n",
    "\n",
    "**Réponses :**\n",
    "\n",
    "A- 3\n",
    "\n",
    "B- 12\n",
    "\n",
    "C- 13\n",
    "\n",
    "D- 15"
   ]
  },
  {
   "cell_type": "markdown",
   "metadata": {},
   "source": [
    "**Sachant que l'expression not(a or b) a la valeur True, quelles peuvent être les valeurs des variables booléennes a et b ?**\n",
    "\n",
    "**Réponses :**\n",
    "\n",
    "A- True et True\n",
    "\n",
    "B- False et True\n",
    "\n",
    "C- True et False\n",
    "\n",
    "D- False et False"
   ]
  },
  {
   "cell_type": "markdown",
   "metadata": {},
   "source": [
    "**Quelle est la valeur de la variable b à la fin de l'exécution du script suivant ?**\n",
    "```python\n",
    "a = 2\n",
    "b = 5\n",
    "if a > 8:\n",
    "    b = 10\n",
    "elif a > 6:\n",
    "    b = 3\n",
    "```\n",
    "__Réponses :__\n",
    "\n",
    "A- 3\n",
    "\n",
    "B- 5\n",
    "\n",
    "C- 6\n",
    "\n",
    "D- 10"
   ]
  },
  {
   "cell_type": "code",
   "execution_count": null,
   "metadata": {},
   "outputs": [],
   "source": []
  },
  {
   "cell_type": "markdown",
   "metadata": {},
   "source": [
    "---\n",
    "[![Licence CC BY NC SA](https://licensebuttons.net/l/by-nc-sa/3.0/88x31.png \"licence Creative Commons CC BY-NC-SA\")](http://creativecommons.org/licenses/by-nc-sa/3.0/fr/)\n",
    "<p style=\"text-align: center;\">Auteur : David Landry, Lycée Clemenceau - Nantes</p>\n",
    "<p style=\"text-align: center;\">D'après des documents partagés par...</p>\n",
    "<p style=\"text-align: center;\"><a  href=http://www.monlyceenumerique.fr/index_nsi.html#premiere>Jean-Christophe Gérard, Thomas Lourdet, Johan Monteillet, Pascal Thérèse</a></p>\n",
    "<p style=\"text-align: center;\"><a  href=https://www.numerique-sciences-informatiques.fr/>Numerique-sciences-informatiques.fr, du Lycée Clemenceau à Montpellier</a></p>\n",
    "<p style=\"text-align: center;\"><a  href=https://isncaju.wixsite.com/isncaju/python>Christophe Casseau, du Lycée Camille Jullian à Bordeaux</a></p>"
   ]
  }
 ],
 "metadata": {
  "kernelspec": {
   "display_name": "Python 3 (ipykernel)",
   "language": "python",
   "name": "python3"
  },
  "language_info": {
   "codemirror_mode": {
    "name": "ipython",
    "version": 3
   },
   "file_extension": ".py",
   "mimetype": "text/x-python",
   "name": "python",
   "nbconvert_exporter": "python",
   "pygments_lexer": "ipython3",
   "version": "3.10.9"
  }
 },
 "nbformat": 4,
 "nbformat_minor": 2
}
