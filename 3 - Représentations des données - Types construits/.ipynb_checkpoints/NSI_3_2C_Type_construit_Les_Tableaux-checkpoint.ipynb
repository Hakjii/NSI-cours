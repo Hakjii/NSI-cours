{
 "cells": [
  {
   "cell_type": "markdown",
   "metadata": {},
   "source": [
    "# Structures de données de type construit ordonné\n",
    "\n",
    "On a vu qu'il existait des types plus complexes que les types de base, on parle de __types construits__ :\n",
    "\n",
    "- des __p-uplets (type `tuple` en Python)__\n",
    "- des __tableaux (type `list` en Python)__.\n",
    "\n",
    "Après avoir découvert les tuples, nous étudierons dans ce notebook les listes.\n",
    "\n",
    "__Les listes ont des points communs importants avec les tuples : ce sont des types construits indexés donc ordonnés__ (il sont structurés de façon ordonnées : aux indices 0, 1, 2, 3,...)\n",
    "\n",
    "## Les tableaux ou listes\n",
    "\n",
    "> __Définition : Un objet de type tableau, est une suite ordonnée modifiable d’éléments indexés qui peuvent être chacun de n’importe quel type.__ \n",
    "\n",
    "__En Python, un tableau est de type `list`__. On pourra donc utiliser indifféremment ces deux termes : __tableau ou liste__.\n",
    "\n",
    "Un tableau ressemble beaucoup à un tuple, à la différence notable qu'__on peut le modifier__ : changer des valeurs et même changer la longueur du tableau.\n",
    "\n",
    "## Comments _construire_ une liste ?\n",
    "\n",
    "Il est très simple de créer une liste, il suffit de lui __affecter une suite de valeurs, séparées par des virgules, le tout entre crochets__.\n",
    "\n",
    "### Créer une liste manuellement"
   ]
  },
  {
   "cell_type": "code",
   "execution_count": null,
   "metadata": {},
   "outputs": [],
   "source": [
    "ma_liste = [1, 2, 3, 4, 5, 6]"
   ]
  },
  {
   "cell_type": "markdown",
   "metadata": {},
   "source": [
    "On constate alors que l'on a bien crée une variable de type `list` :"
   ]
  },
  {
   "cell_type": "code",
   "execution_count": null,
   "metadata": {
    "scrolled": true
   },
   "outputs": [],
   "source": [
    "print(f'La variable \"ma_liste\" est de type {type(ma_liste)}')\n",
    "print(f'La variable \"ma_liste\" a pour valeur {ma_liste}')"
   ]
  },
  {
   "cell_type": "markdown",
   "metadata": {},
   "source": [
    "### Créer une liste petit à petit : création en extension\n",
    "\n",
    "On verra aussi qu'il est souvent plus utile d'ajouter les éléments un a un, à l'aide de la méthode `.append()`.\n",
    "\n",
    "Par exemple, on peut créer une liste vide, puis la remplir.\n",
    "\n",
    "On parle alors de __création de liste en extension__."
   ]
  },
  {
   "cell_type": "code",
   "execution_count": null,
   "metadata": {},
   "outputs": [],
   "source": [
    "ma_liste = []\n",
    "print(ma_liste)\n",
    "ma_liste.append(5)\n",
    "print(ma_liste)\n",
    "ma_liste.append('Bingo !')\n",
    "print(ma_liste)\n",
    "ma_liste.append(('un', 'tuple', 'pour', 'changer'))\n",
    "print(ma_liste)"
   ]
  },
  {
   "cell_type": "markdown",
   "metadata": {},
   "source": [
    "### Créer une liste à l'aide d'une boucle"
   ]
  },
  {
   "cell_type": "code",
   "execution_count": null,
   "metadata": {},
   "outputs": [],
   "source": [
    "liste_de_nombres_pairs = []\n",
    "for i in range(20):\n",
    "    liste_de_nombres_pairs.append(i * 2)\n",
    "print(liste_de_nombres_pairs)"
   ]
  },
  {
   "cell_type": "markdown",
   "metadata": {},
   "source": [
    "### Créer une liste _en compréhension_\n",
    "\n",
    "Cette méthode de __création de liste en compréhension__ est à la fois pratique efficace et... belle. C'est un parfait exemple de la créativité du langage Python.\n",
    "\n",
    "Tout se passe directement entre les crochets.\n",
    "\n",
    "Le plus simple est d'en analyser quelques exemples..."
   ]
  },
  {
   "cell_type": "code",
   "execution_count": null,
   "metadata": {},
   "outputs": [],
   "source": [
    "ma_liste = [i for i in range(30)]\n",
    "print(ma_liste)"
   ]
  },
  {
   "cell_type": "code",
   "execution_count": null,
   "metadata": {},
   "outputs": [],
   "source": [
    "liste_de_nombres_pairs = [i * 2 for i in range(30)]\n",
    "print(liste_de_nombres_pairs)"
   ]
  },
  {
   "cell_type": "code",
   "execution_count": null,
   "metadata": {},
   "outputs": [],
   "source": [
    "liste_multiples_de_6 = [i * 3 for i in liste_de_nombres_pairs]\n",
    "print(liste_multiples_de_6)"
   ]
  },
  {
   "cell_type": "code",
   "execution_count": null,
   "metadata": {},
   "outputs": [],
   "source": [
    "liste_excluant_dizaines = [i for i in ma_liste if i % 10 != 0]\n",
    "print(liste_excluant_dizaines)"
   ]
  },
  {
   "cell_type": "code",
   "execution_count": null,
   "metadata": {},
   "outputs": [],
   "source": [
    "from random import randint\n",
    "liste_aleatoire = [randint(0, 100) for _ in range(20)]\n",
    "print(liste_aleatoire)"
   ]
  },
  {
   "cell_type": "code",
   "execution_count": null,
   "metadata": {
    "scrolled": true
   },
   "outputs": [],
   "source": [
    "liste_de_listes = [[i, j] for i in range(3) for j in range(2)]\n",
    "print(liste_de_listes)"
   ]
  },
  {
   "cell_type": "code",
   "execution_count": null,
   "metadata": {},
   "outputs": [],
   "source": [
    "listes_emboitees = [[[i, j] for i in range(3)] for j in range(2)]\n",
    "print(listes_emboitees)"
   ]
  },
  {
   "cell_type": "markdown",
   "metadata": {},
   "source": [
    "> __Remarque :__ j'espère que vous n'avez pas oublié de commenter ces découvertes !"
   ]
  },
  {
   "cell_type": "markdown",
   "metadata": {},
   "source": [
    "Afin d'avoir une trace écrite du comportement des listes, __commentez chacun des essais suivants...__\n",
    "\n",
    "### Atteindre une variable contenue dans une liste par son indice"
   ]
  },
  {
   "cell_type": "code",
   "execution_count": null,
   "metadata": {},
   "outputs": [],
   "source": [
    "print(liste_de_nombres_pairs)\n",
    "print(liste_de_nombres_pairs[3])"
   ]
  },
  {
   "cell_type": "code",
   "execution_count": null,
   "metadata": {
    "scrolled": true
   },
   "outputs": [],
   "source": [
    "print(liste_de_nombres_pairs[-1])"
   ]
  },
  {
   "cell_type": "code",
   "execution_count": null,
   "metadata": {},
   "outputs": [],
   "source": [
    "print(liste_de_listes)\n",
    "print(liste_de_listes[3])"
   ]
  },
  {
   "cell_type": "code",
   "execution_count": null,
   "metadata": {},
   "outputs": [],
   "source": [
    "print(liste_de_listes[4][0])"
   ]
  },
  {
   "cell_type": "code",
   "execution_count": null,
   "metadata": {},
   "outputs": [],
   "source": [
    "print(listes_emboitees)\n",
    "print(listes_emboitees[1][2][0])"
   ]
  },
  {
   "cell_type": "markdown",
   "metadata": {},
   "source": [
    "### Atteindre toutes les variables contenues dans une liste"
   ]
  },
  {
   "cell_type": "code",
   "execution_count": null,
   "metadata": {
    "scrolled": true
   },
   "outputs": [],
   "source": [
    "for i in range(len(liste_de_nombres_pairs)):\n",
    "    print(liste_de_nombres_pairs[i], end=' ')"
   ]
  },
  {
   "cell_type": "code",
   "execution_count": null,
   "metadata": {
    "scrolled": false
   },
   "outputs": [],
   "source": [
    "for valeur in liste_de_nombres_pairs:\n",
    "    print(valeur, end=' ')"
   ]
  },
  {
   "cell_type": "markdown",
   "metadata": {},
   "source": [
    "### Changer une variable dans une liste"
   ]
  },
  {
   "cell_type": "code",
   "execution_count": null,
   "metadata": {
    "scrolled": false
   },
   "outputs": [],
   "source": [
    "liste_de_nombres_pairs[0] = 15254\n",
    "print(liste_de_nombres_pairs)"
   ]
  },
  {
   "cell_type": "code",
   "execution_count": null,
   "metadata": {},
   "outputs": [],
   "source": [
    "print(listes_emboitees)\n",
    "listes_emboitees[1][2][0] = 'on peut tout modifier dans une liste'\n",
    "print(listes_emboitees)"
   ]
  },
  {
   "cell_type": "markdown",
   "metadata": {},
   "source": [
    "### Varier les types contenus dans une liste"
   ]
  },
  {
   "cell_type": "markdown",
   "metadata": {},
   "source": [
    "Tout comme les tuples, on peut affecter n'importe quel type de variable dans une liste."
   ]
  },
  {
   "cell_type": "markdown",
   "metadata": {},
   "source": [
    "### Concaténer deux listes"
   ]
  },
  {
   "cell_type": "code",
   "execution_count": null,
   "metadata": {
    "scrolled": true
   },
   "outputs": [],
   "source": [
    "liste_concatene = liste_de_nombres_pairs + [1254, 654]\n",
    "print(liste_concatene)"
   ]
  },
  {
   "cell_type": "code",
   "execution_count": null,
   "metadata": {
    "scrolled": true
   },
   "outputs": [],
   "source": [
    "liste_concatene = ['a', 'b'] * 2\n",
    "print(liste_concatene)"
   ]
  },
  {
   "cell_type": "code",
   "execution_count": null,
   "metadata": {},
   "outputs": [],
   "source": [
    "liste_concatene.extend([4, 658])\n",
    "print(liste_concatene)"
   ]
  },
  {
   "cell_type": "markdown",
   "metadata": {},
   "source": [
    "### Affectation multiple"
   ]
  },
  {
   "cell_type": "code",
   "execution_count": null,
   "metadata": {
    "scrolled": true
   },
   "outputs": [],
   "source": [
    "a, b, c, d, e, f = liste_concatene\n",
    "print(e)\n",
    "print(f)"
   ]
  },
  {
   "cell_type": "code",
   "execution_count": null,
   "metadata": {},
   "outputs": [],
   "source": [
    "a, b, *c, d = liste_concatene\n",
    "print(a)\n",
    "print(b)\n",
    "print(c)\n",
    "print(d)"
   ]
  },
  {
   "cell_type": "markdown",
   "metadata": {},
   "source": [
    "Mais on remarque que..."
   ]
  },
  {
   "cell_type": "code",
   "execution_count": null,
   "metadata": {},
   "outputs": [],
   "source": [
    "a, b = liste_concatene\n",
    "print(a)\n",
    "print(b)"
   ]
  },
  {
   "cell_type": "markdown",
   "metadata": {},
   "source": [
    "### Test d'appartenance dans une liste"
   ]
  },
  {
   "cell_type": "code",
   "execution_count": null,
   "metadata": {},
   "outputs": [],
   "source": [
    "print(ma_liste)\n",
    "3 in ma_liste"
   ]
  },
  {
   "cell_type": "code",
   "execution_count": null,
   "metadata": {},
   "outputs": [],
   "source": [
    "35 in ma_liste"
   ]
  },
  {
   "cell_type": "code",
   "execution_count": null,
   "metadata": {},
   "outputs": [],
   "source": [
    "35 not in ma_liste"
   ]
  },
  {
   "cell_type": "markdown",
   "metadata": {},
   "source": [
    "### Connaître le nombre d'énéments contenus dans une liste"
   ]
  },
  {
   "cell_type": "code",
   "execution_count": null,
   "metadata": {},
   "outputs": [],
   "source": [
    "len(ma_liste)"
   ]
  },
  {
   "cell_type": "markdown",
   "metadata": {},
   "source": [
    "### Slicing sur liste (approfondissement)"
   ]
  },
  {
   "cell_type": "code",
   "execution_count": null,
   "metadata": {},
   "outputs": [],
   "source": [
    "liste_alphabet = ['A', 'B', 'C', 'D', 'E', 'F', 'G', 'H', 'I', 'J', 'K', 'L', 'M']\n",
    "print(liste_alphabet[2:6])"
   ]
  },
  {
   "cell_type": "code",
   "execution_count": null,
   "metadata": {},
   "outputs": [],
   "source": [
    "print(liste_alphabet[3:-3])"
   ]
  },
  {
   "cell_type": "code",
   "execution_count": null,
   "metadata": {},
   "outputs": [],
   "source": [
    "print(liste_alphabet[-1:5:-1])"
   ]
  },
  {
   "cell_type": "markdown",
   "metadata": {},
   "source": [
    "### Quelques méthodes utiles pour les listes (Approfondissement)"
   ]
  },
  {
   "cell_type": "code",
   "execution_count": null,
   "metadata": {},
   "outputs": [],
   "source": [
    "liste_mots = ['il', 'était', 'un', 'petit', 'navire', 'il', 'était', 'il']\n",
    "liste_mots.append('stop')\n",
    "print(liste_mots)"
   ]
  },
  {
   "cell_type": "code",
   "execution_count": null,
   "metadata": {
    "scrolled": true
   },
   "outputs": [],
   "source": [
    "liste_variee = [5, 875, ('bob', \"l'éponge\"), 67.874]\n",
    "liste_variee.extend(liste_mots)\n",
    "print(liste_variee)"
   ]
  },
  {
   "cell_type": "code",
   "execution_count": null,
   "metadata": {},
   "outputs": [],
   "source": [
    "liste_variee.insert(2, 'bonus')\n",
    "print(liste_variee)"
   ]
  },
  {
   "cell_type": "code",
   "execution_count": null,
   "metadata": {},
   "outputs": [],
   "source": [
    "liste_variee.index('petit')"
   ]
  },
  {
   "cell_type": "code",
   "execution_count": null,
   "metadata": {
    "scrolled": true
   },
   "outputs": [],
   "source": [
    "liste_variee.index('il')"
   ]
  },
  {
   "cell_type": "code",
   "execution_count": null,
   "metadata": {
    "scrolled": true
   },
   "outputs": [],
   "source": [
    "liste_variee.count('il')"
   ]
  },
  {
   "cell_type": "code",
   "execution_count": null,
   "metadata": {},
   "outputs": [],
   "source": [
    "liste_variee.clear()\n",
    "print(liste_variee)"
   ]
  },
  {
   "cell_type": "code",
   "execution_count": null,
   "metadata": {},
   "outputs": [],
   "source": [
    "liste_variee = [5, 875, ('bob', \"l'éponge\"), 67.874]\n",
    "liste_variee.pop()\n",
    "print(liste_variee)"
   ]
  },
  {
   "cell_type": "code",
   "execution_count": null,
   "metadata": {},
   "outputs": [],
   "source": [
    "liste_variee.remove(5)\n",
    "print(liste_variee)"
   ]
  },
  {
   "cell_type": "code",
   "execution_count": null,
   "metadata": {},
   "outputs": [],
   "source": [
    "liste_variee.reverse()\n",
    "print(liste_variee)"
   ]
  },
  {
   "cell_type": "code",
   "execution_count": null,
   "metadata": {},
   "outputs": [],
   "source": [
    "from random import randint\n",
    "liste_aleatoire = [randint(0, 100) for _ in range(20)]\n",
    "print(liste_aleatoire)\n",
    "liste_aleatoire.sort()\n",
    "print(liste_aleatoire)"
   ]
  },
  {
   "cell_type": "code",
   "execution_count": null,
   "metadata": {},
   "outputs": [],
   "source": [
    "liste_copiee = liste_aleatoire.copy()\n",
    "print(liste_aleatoire)\n",
    "print(liste_copiee)"
   ]
  },
  {
   "cell_type": "markdown",
   "metadata": {},
   "source": [
    "Compléter le tableau suivant résumant les fonctionnalités des méthodes, appliquées à des listes :\n",
    "\n",
    "| Méthode | Fonctionnalité |\n",
    "| :-----: |  :-----------: |\n",
    "|.append()|       ...      |\n",
    "|.extend()|       ...      |\n",
    "|.insert()|       ...      |\n",
    "|.count() |       ...      |\n",
    "|.index() |       ...      |\n",
    "|.clear() |       ...      |\n",
    "|.pop()   |       ...      |\n",
    "|.remove()|       ...      |\n",
    "|.reverse()|      ...      |\n",
    "|.sort()  |       ...      |\n",
    "|.copy()  |       ...      |\n",
    "\n",
    "Si les exemples précédents vous ont aidé à comprendre le fonctionnement de ces méthodes, c'est très bien. Il est toutefois plus prudent de __vérifier sur [un site de référence](https://www.w3schools.com/python/python_ref_list.asp) si vos hypothèses sont correctes__. De plus, vous y découvrirez peut-etre des paramètres optionnels intéressants pour certaines méthodes.\n",
    "\n",
    "> __Remarque :__ il faut noter que la majorité de ces méthodes n'est pas exigible en classe première. Toutefois, il reste __deux méthodes exigibles et très utiles qu'il faut absolument connaître : .append() et .sort()__."
   ]
  },
  {
   "cell_type": "markdown",
   "metadata": {},
   "source": [
    "### La méthode `.enumerate()` (Approfondissement)\n",
    "\n",
    "Dans certains cas, en particulier dans des boucles, il est très utile d'obtenir un indice associé à chaque valeur incluse dans le tableau. On utilise alors la fonction [`enumerate()`](https://www.w3schools.com/python/ref_func_enumerate.asp).\n",
    "\n",
    "En voici un exemple ci-dessous..."
   ]
  },
  {
   "cell_type": "code",
   "execution_count": null,
   "metadata": {},
   "outputs": [],
   "source": [
    "for i, nombre in enumerate(liste_multiples_de_6):\n",
    "    print(f'6 fois {i} est égal à {nombre}')"
   ]
  },
  {
   "cell_type": "markdown",
   "metadata": {},
   "source": [
    "## Exercices sur listes"
   ]
  },
  {
   "cell_type": "markdown",
   "metadata": {},
   "source": [
    "### Création de listes\n",
    "\n",
    "Ecrire deux scripts Python qui créent la liste des entiers de 0 à 100 de deux méthodes différentes :\n",
    "\n",
    "- en extension\n",
    "- en compréhension"
   ]
  },
  {
   "cell_type": "code",
   "execution_count": null,
   "metadata": {},
   "outputs": [],
   "source": [
    "# En extension\n",
    "\n",
    "entiers = []\n",
    "for i in range(101):\n",
    "    entiers.append(i)\n",
    "print(entiers)"
   ]
  },
  {
   "cell_type": "code",
   "execution_count": null,
   "metadata": {},
   "outputs": [],
   "source": [
    "# En compréhension\n",
    "\n",
    "entiers = [i for i in range(101)]\n",
    "print(entiers)"
   ]
  },
  {
   "cell_type": "markdown",
   "metadata": {},
   "source": [
    "### Création de liste en compréhension\n",
    "\n",
    "Créer en compréhension une liste qui contienne les puissances de 2 inférieures à 1000."
   ]
  },
  {
   "cell_type": "code",
   "execution_count": null,
   "metadata": {},
   "outputs": [],
   "source": [
    "puissances = [2 ** i for i in range(20) if 2 ** i < 1000]\n",
    "print(puissances)"
   ]
  },
  {
   "cell_type": "markdown",
   "metadata": {},
   "source": [
    "### Etude de fiabilité de la fonction randint() sur un tirage de dé\n",
    "\n",
    "Créer une liste contenant les 1000 résultats d'un tirage aléatoire d'un dé à 6 faces.\n",
    "\n",
    "Compter et afficher les nombres d'apparition de chaque chiffre."
   ]
  },
  {
   "cell_type": "code",
   "execution_count": null,
   "metadata": {},
   "outputs": [],
   "source": [
    "from random import randint\n",
    "\n",
    "tirage = []\n",
    "for _ in range(1000):\n",
    "    tirage.append(randint(1, 6))\n",
    "\n",
    "for i in range(1, 7):\n",
    "    print(f\"Le chiffre {i} est sorti {tirage.count(i)} fois.\")"
   ]
  },
  {
   "cell_type": "markdown",
   "metadata": {},
   "source": [
    "Reprendre l'exercice précédent, en créant une liste contenant les 1000 résultats d'un tirage aléatoire d'un dé à 6 faces.\n",
    "\n",
    "Compter le nombre de 6, contenus dans la liste, sans utiliser aucune méthode prédéfinie."
   ]
  },
  {
   "cell_type": "code",
   "execution_count": null,
   "metadata": {},
   "outputs": [],
   "source": [
    "compteur = 0\n",
    "for i in tirage:\n",
    "    if i == 6:\n",
    "        compteur = compteur + 1\n",
    "print(compteur)"
   ]
  },
  {
   "cell_type": "markdown",
   "metadata": {},
   "source": [
    "### Une liste de listes : une matrice\n",
    "\n",
    "`liste_de_liste = [[1, 2, 3, 4], [5, 6, 7, 8], [9, 10, 11, 12]]`\n",
    "\n",
    "Le premier élément de `liste_de_liste` est la liste `[1, 2, 3, 4]`, pour l'afficher on écrit : `liste_de_liste[0]`.\n",
    "\n",
    "- Afficher la valeur `3` contenue dans `liste_de_liste`.\n",
    "- Afficher le quatrième élément du deuxième élément de `liste_de_liste`.\n",
    "- Afficher le deuxième élément du troisième élément de `liste_de_liste`.\n",
    "- Afficher l'élément indexé 0 du deuxième élément de `liste_de_liste`.\n",
    "- Anticiper la valeur de `liste_de_liste[2][3]` puis l'afficher.\n",
    "- Ajouter la valeur 26 à la fin de la deuxième liste contenue dans `liste_de_liste`."
   ]
  },
  {
   "cell_type": "code",
   "execution_count": null,
   "metadata": {},
   "outputs": [],
   "source": [
    "liste_de_liste = [[1, 2, 3, 4], [5, 6, 7, 8], [9, 10, 11, 12]]\n",
    "\n",
    "print(liste_de_liste[0][2])\n",
    "print(liste_de_liste[1][3])\n",
    "print(liste_de_liste[2][1])\n",
    "print(liste_de_liste[1][0])\n",
    "print(liste_de_liste[2][3])\n",
    "liste_de_liste[1].append(26)\n",
    "print(liste_de_liste)"
   ]
  },
  {
   "cell_type": "markdown",
   "metadata": {},
   "source": [
    "### Carré magique\n",
    "\n",
    "Faire une recherche sur le web sur la notion de carré magique. Un carré magique d'ordre 3 est une matrice de 3 lignes et trois colonnes dont la somme des lignes, des colonnes et des diagonales fait le même nombre.\n",
    "\n",
    "```python\n",
    "matrice = [[2, 7, 6],\n",
    "           [9, 5, 1],\n",
    "\t       [4, 3, 8]]\n",
    "```\n",
    "Ecrire un script Python qui vérifie que ce carré est magique. \n",
    "\n",
    "Le prolongement de cet exercice est la recherche d'autres carrés magiques."
   ]
  },
  {
   "cell_type": "code",
   "execution_count": 1,
   "metadata": {},
   "outputs": [
    {
     "name": "stdout",
     "output_type": "stream",
     "text": [
      "C'est bien un carré magique\n"
     ]
    }
   ],
   "source": [
    "matrice = [[2, 7, 6],\n",
    "           [9, 5, 1],\n",
    "           [4, 3, 8]]\n",
    "\n",
    "carre_magique = True  # On part du principe que le carré est magique\n",
    "somme_diagonale_1 = matrice[0][0] + matrice[1][1] +matrice[2][2]\n",
    "somme_diagonale_2 = matrice[0][2] + matrice[1][1] +matrice[2][0]\n",
    "\n",
    "for i in range(3):\n",
    "    somme_ligne = 0\n",
    "    somme_colonne = 0\n",
    "    for j in range(3):\n",
    "        somme_ligne = somme_ligne + matrice[i][j]\n",
    "        somme_colonne = somme_colonne + matrice[j][i]\n",
    "       \n",
    "    # L'antislash permet un retour à la ligne\n",
    "    if somme_ligne != somme_diagonale_1\\\n",
    "       or somme_colonne != somme_diagonale_1\\\n",
    "       or somme_diagonale_1 != somme_diagonale_2:\n",
    "        carre_magique = False  # Cas où le carré n'est pas magique\n",
    "        \n",
    "if carre_magique:\n",
    "    print(\"C'est bien un carré magique\")\n",
    "else:\n",
    "    print(\"Ce n'est pas un carré magique\")\n",
    "    \n",
    "# Remarque à postériori : \n",
    "# une boucle non bornée aurait sans doute été préférable\n",
    "# puisqu'il suffit de trouver un seul cas d'inégalité pour être\n",
    "# certain que le carré n'est pas magique."
   ]
  },
  {
   "cell_type": "markdown",
   "metadata": {},
   "source": [
    "### D'une chaîne de caractère à une liste : la méthode .split()\n",
    "\n",
    "Il existe pour les listes des méthodes très intéressantes dans le traitement des chaines de caractères. Ce sont les méthodes [split()](https://www.w3schools.com/python/ref_string_split.asp), [join()](https://www.w3schools.com/python/ref_string_join.asp) et [strip()](https://www.w3schools.com/python/ref_string_strip.asp)\n",
    "\n",
    "Vous pouvez réaliser des essais avec cette citation du philosophe Confucius : _\"Je ne cherche pas à connaître les réponses, je cherche à comprendre les questions.\"_\n",
    "\n",
    "En utilisant les méthodes ci-dessus...\n",
    "\n",
    "- Compter le nombre d'occurrences du mot \"cherche\" dans la citation, en passant par une liste de mots.\n",
    "- Se débarrasser des virgules et des points éventuellement collés aux mots.\n",
    "- Recréer une chaîne de caractères à partir de la dernière liste créee. Cette chaîne de caractère sera la citation de Confusius avec la caractère underscore `_` à la place des espaces (sans virgule, ni point)."
   ]
  },
  {
   "cell_type": "code",
   "execution_count": null,
   "metadata": {},
   "outputs": [],
   "source": [
    "citation = \"Je ne cherche pas à connaître les réponses, je cherche à comprendre les questions.\"\n",
    "\n",
    "liste_mots = citation.split()\n",
    "print(liste_mots)\n",
    "\n",
    "print(liste_mots.count('cherche'))\n",
    "\n",
    "mots_epures = []\n",
    "for mot in liste_mots:\n",
    "    mots_epures.append(mot.strip('.,'))\n",
    "print(mots_epures)\n",
    "\n",
    "print('_'.join(mots_epures))"
   ]
  },
  {
   "cell_type": "markdown",
   "metadata": {},
   "source": [
    "### Les élèves de Poudlard au tableau !\n",
    "\n",
    "Afin d’exploiter les données contenues dans le fichier CSV fourni (« Characters.csv »), vous pouvez avoir besoin des instructions et des méthodes suivantes :\n",
    "- `with open(paramètres à insérer ici) as f:`\n",
    "  - qui permet d’ouvrir un fichier et d’en affecter son contenu à un objet f.\n",
    "- `chaine_de_caractère = f`[.readline()](https://www.w3schools.com/python/ref_file_readline.asp)\n",
    "  - qui permet de lire une ligne dans l’objet f crée à partir du fichier.\n",
    "- `nouvelle_liste = chaine_de_caractere`[.split(séparateur)](https://www.w3schools.com/python/ref_string_split.asp)\n",
    "  - qui permet de décomposer une chaîne de caractère d’après un séparateur.\n",
    "- `nouvelle_chaine = chaine_de_caractere`[.strip()](https://www.w3schools.com/python/ref_string_strip.asp)\n",
    "  - qui permet de supprimer les espaces en début et fin de chaîne de caractère.\n",
    "  \n",
    "Une autre façon de lire le contenu d'un fichier consiste à utiliser le fait que l'objet `f` crée est un itérable !\n",
    "- `for ligne in f:`\n",
    "  - permet d'obtenir une ligne (chaîne de caractère) par tour de boucle.\n",
    "  \n",
    "Utiliser le fichier \"Characters.csv\" pour importer les noms des élèves dans un tableau `tableau_eleves`."
   ]
  },
  {
   "cell_type": "code",
   "execution_count": 2,
   "metadata": {},
   "outputs": [
    {
     "name": "stdout",
     "output_type": "stream",
     "text": [
      "['Harry James Potter', 'Ronald Bilius Weasley', 'Hermione Jean Granger', 'Albus Percival Wulfric Brian Dumbledore', 'Rubeus Hagrid', 'Neville Longbottom', 'Fred Weasley', 'George Weasley', 'Ginevra (Ginny) Molly Weasley', 'Dean Thomas', 'Seamus Finnigan', 'Lily J. Potter', 'James Potter', 'Sirius Black', 'Remus John Lupin', 'Peter Pettigrew', 'Percy Ignatius Weasley', '(Bill) William Arthur Weasley', 'Charles Weasley', 'Lee Jordan\\xa0', 'Oliver Wood', 'Angelina Johnson', 'Katie Bell', 'Alicia Spinnet', 'Lavender Brown', 'Parvati Patil', 'Romilda Vane', 'Colin Creevey', 'Cormac McLaggen', 'Minerva McGonagall', 'Molly Weasley', 'Arthur Weasley', 'Quirinus Quirrell', 'Cho Chang', 'Luna Lovegood', 'Gilderoy Lockhart', 'Filius Flitwick', 'Sybill Patricia Trelawney', 'Garrick Ollivander', 'Myrtle Elizabeth Warren (Moaning Myrtle)', 'Padma Patil', 'Michael Corner', 'Marietta Edgecombe', 'Terry Boot', 'Anthony Goldstein', 'Severus Snape', 'Draco Malfoy', 'Vincent Crabbe', 'Gregory Goyle', 'Bellatrix Lestrange', 'Dolores Jane Umbridge', 'Horace Eugene Flaccus Slughorn', 'Lucius Malfoy', 'Narcissa Malfoy', 'Regulus Arcturus Black', 'Pansy Parkinson', 'Blaise Zabini', 'Tom Marvolo Riddle', 'Theodore Nott', 'Rodolphus Lestrange', 'Millicent Bulstrode', 'Graham Montague', 'Bloody Baron', 'Marcus Flint', 'Penelope Clearwater', 'Roger Davies', 'Marcus Belby', 'Salazar Slytherin', 'Godric Gryffindor', 'Rowena Ravenclaw', 'Nicholas de Mimsy-Porpington', 'Cuthbert Binns', 'Barty Crouch Jr.', 'Charity Burbage', 'Firenze', 'Alecto Carrow', 'Amycus Carrow', 'Helga Hufflepuff', 'Fat Friar', 'Helena Ravenclaw', 'Nymphadora Tonks', 'Pomona Sprout', 'Newton Scamander', 'Cedric Diggory', 'Justin Finch-Fletchley', 'Zacharias Smith', 'Hannah Abbott', 'Ernest Macmillan', 'Susan Bones', 'Walden Macnair', 'Augustus Rookwood', 'Antonin Dolohov', 'Corban Yaxley', 'Igor Karkaroff', 'Kingsley Shacklebolt', 'Alastor Moody', 'Alice Longbottom', 'Frank Longbottom', 'Rufus Scrimgeour', 'Cornelius Oswald Fudge', 'Barty Crouch Sr.', 'Amos Diggory', 'Dedalus Diggle', 'Elphias Doge', 'Fleur Isabelle Delacour', 'Aberforth Dumbledore', 'Mundungus Fletcher', 'Sturgis Podmore', 'Hestia Jones', 'Marlene McKinnon', 'Fabian Prewett', 'Gideon Prewett', 'Emmeline Vance', 'Edgar Bones', 'Dorcas Meadowes', 'Benjy Fenwick', 'Madame Olympe Maxime', 'Gabrielle Delacour', 'Viktor Krum', 'Petunia Dursley', 'Vernon Dursley', 'Dudley Dursley', 'Marge Dursley', 'Dennis Creevey', 'Albus Severus Potter', 'Scorpius Hyperion Malfoy', 'Edward Remus Lupin', 'James Sirius Potter', 'Rose Granger-Weasley', 'Argus Filch', 'Poppy Pomfrey', 'Rolanda Hooch', 'Irma Pince', 'Aurora Sinistra', 'Septima Vector', 'Wilhelmina Grubbly-Plank', 'Fenrir Greyback', 'Gellert Grindelwald', 'Dobby', 'Kreacher']\n"
     ]
    }
   ],
   "source": [
    "with open(\"Characters.csv\", mode='r', encoding='utf-8') as f:\n",
    "    ligne_des_descripteurs = f.readline()\n",
    "    tableau_eleves = []\n",
    "    for ligne in f:\n",
    "        # split(';'') crée une liste des mots séparés par ;\n",
    "        # [1] permet d'extraire le 2nd élément de cette liste : le nom\n",
    "        # append() ajoute ce nom à notre tableau d'élèves\n",
    "        tableau_eleves.append(ligne.split(';')[1])\n",
    "\n",
    "print(tableau_eleves)"
   ]
  },
  {
   "cell_type": "markdown",
   "metadata": {},
   "source": [
    "__Compter le nombre d'élèves__ de l'école de Poudlard (anciens ou présents)."
   ]
  },
  {
   "cell_type": "code",
   "execution_count": null,
   "metadata": {},
   "outputs": [],
   "source": [
    "len(tableau_eleves)"
   ]
  },
  {
   "cell_type": "markdown",
   "metadata": {},
   "source": [
    "__Compter le nombre de filles, puis le nombre de garçons__. Pour cela, vous aurez besoin de créer une nouvelle liste."
   ]
  },
  {
   "cell_type": "code",
   "execution_count": 3,
   "metadata": {},
   "outputs": [
    {
     "name": "stdout",
     "output_type": "stream",
     "text": [
      "Il y a 49 filles et 90 garçons\n"
     ]
    }
   ],
   "source": [
    "with open(\"Characters.csv\", mode='r', encoding='utf-8') as f:\n",
    "    ligne_des_descripteurs = f.readline()\n",
    "    liste_garcons = []\n",
    "    liste_filles = []\n",
    "    for ligne in f:\n",
    "        # split(';'') crée une liste des mots séparés par ;\n",
    "        eleve = ligne.split(';')\n",
    "        if eleve[2] == 'Male':\n",
    "            liste_garcons.append(eleve[1])\n",
    "        if eleve[2] == 'Female':\n",
    "            liste_filles.append(eleve[1])\n",
    "\n",
    "print(f\"Il y a {len(liste_filles)} filles et {len(liste_garcons)} garçons\")"
   ]
  },
  {
   "cell_type": "markdown",
   "metadata": {},
   "source": [
    "__Trier le tableau d'élèves par ordre alphabétique des premiers prénoms__."
   ]
  },
  {
   "cell_type": "code",
   "execution_count": null,
   "metadata": {},
   "outputs": [],
   "source": [
    "print(tableau_eleves)\n",
    "tableau_eleves.sort()\n",
    "print(tableau_eleves)"
   ]
  },
  {
   "cell_type": "markdown",
   "metadata": {},
   "source": [
    "__Trier le tableau d'élèves par ordre alphabétique des noms__ (Approfondissement)."
   ]
  },
  {
   "cell_type": "code",
   "execution_count": null,
   "metadata": {},
   "outputs": [],
   "source": [
    "tableau_noms = []\n",
    "for eleve in tableau_eleves:\n",
    "    prenoms_nom = eleve.split()\n",
    "    nom = prenoms_nom[-1]\n",
    "    liste_prenoms = prenoms_nom[:-1]\n",
    "    prenoms = ' '.join(liste_prenoms)\n",
    "    tableau_noms.append(nom + ' ' + prenoms)\n",
    "\n",
    "tableau_noms.sort()\n",
    "print(tableau_noms)"
   ]
  },
  {
   "cell_type": "markdown",
   "metadata": {},
   "source": [
    "__Importer l'ensemble du fichier \"Characters.csv\" dans un tableau__.\n",
    "\n",
    "Créer un nouveau tableau contenant lui même des tableaux. Chacun de ces tableaux contiendra l'ensemble des caractéristiques d'un seul personnage. "
   ]
  },
  {
   "cell_type": "code",
   "execution_count": 7,
   "metadata": {},
   "outputs": [
    {
     "name": "stdout",
     "output_type": "stream",
     "text": [
      "[['1', 'Harry James Potter', 'Male', 'Student', 'Gryffindor', '\"11\"\"  Holly  phoenix feather\"', 'Stag', 'Human', 'Half-blood', 'Black', 'Bright green', \"Albus Dumbledore | Dumbledore's Army | Order of the Phoenix | Hogwarts School of Witchcraft and Wizardry\", 'Parseltongue| Defence Against the Dark Arts | Seeker', '31 July 1980', '\\n'], ['2', 'Ronald Bilius Weasley', 'Male', 'Student', 'Gryffindor', '\"12\"\" Ash unicorn tail hair \"', 'Jack Russell terrier', 'Human', 'Pure-blood', 'Red', 'Blue', \"Dumbledore's Army | Order of the Phoenix | Hogwarts School of Witchcraft and Wizardry\", 'Wizard chess | Quidditch goalkeeping', '1 March 1980', '\\n'], ['3', 'Hermione Jean Granger', 'Female', 'Student', 'Gryffindor', '\"10¾\"\"  vine wood dragon heartstring\"', 'Otter', 'Human', 'Muggle-born', 'Brown', 'Brown', \"Dumbledore's Army | Order of the Phoenix | Hogwarts School of Witchcraft and Wizardry\", 'Almost everything', '19 September,\\xa01979', '\\n'], ['4', 'Albus Percival Wulfric Brian Dumbledore', 'Male', 'Headmaster', 'Gryffindor', '\"15\"\" Elder Thestral tail hair core\"', 'Phoenix', 'Human', 'Half-blood', 'Silver| formerly auburn', 'Blue', \"Dumbledore's Army | Order of the Phoenix | Hogwarts School of Witchcraft and Wizardry\", 'Considered by many to be one of the most powerful wizards of his time', 'Late August 1881', '30 June,\\xa01997\\xa0\\n'], ['5', 'Rubeus Hagrid', 'Male', 'Keeper of Keys and Grounds | Professor of Care of Magical Creatures ', 'Gryffindor', '\"16\"\"  Oak unknown core\"', 'None', 'Half-Human/Half-Giant', 'Part-Human\\xa0(Half-giant)', 'Black', 'Black', 'Albus Dumbledore | Order of the Phoenix | Hogwarts School of Witchcraft and Wizardry', 'Resistant to stunning spells| above average strength | crossbowmanship', '6 December\\xa01928', '\\n'], ['6', 'Neville Longbottom', 'Male', 'Student', 'Gryffindor', '\"13\"\" Cherry unicorn hair\"', 'Non-corporeal', 'Human', 'Pure-blood', 'Blond', '', \"Dumbledore's Army | Order of the Phoenix | Hogwarts School of Witchcraft and Wizardry\", 'Herbology', '30 July,\\xa01980', '\\n'], ['7', 'Fred Weasley', 'Male', 'Student', 'Gryffindor', 'Unknown', 'Unknown', 'Human', 'Pure-blood', 'Red', 'Brown', \"Dumbledore's Army | Order of the Phoenix | Hogwarts School of Witchcraft and Wizardry\", 'Beater', '1 April,\\xa01978\\xa0', '2 May,\\xa01998\\n'], ['8', 'George Weasley', 'Male', 'Student', 'Gryffindor', 'Unknown', 'Unknown', 'Human', 'Pure-blood', 'Red', 'Brown', \"Dumbledore's Army | Order of the Phoenix | Hogwarts School of Witchcraft and Wizardry\", 'Beater', ' 1 April,\\xa01978\\xa0', '\\n'], ['9', 'Ginevra (Ginny) Molly Weasley', 'Female', 'Student', 'Gryffindor', 'Unknown', 'Horse', 'Human', 'Pure-blood', 'Red', 'Bright brown', \"Dumbledore's Army | Order of the Phoenix | Hogwarts School of Witchcraft and Wizardry\", 'Chaser| Bat-Bogey hex', '11 August,\\xa01981', '\\n'], ['10', 'Dean Thomas', 'Male', 'Student', 'Gryffindor', 'Unknown', 'Unknown', 'Human', 'Muggle-born', 'Black', 'Brown', \"Dumbledore's Army | Hogwarts School of Witchcraft and Wizardry\", 'Chaser', '\\xa01 September\\xa01979-\\xa031 August\\xa01980', '\\n'], ['11', 'Seamus Finnigan', 'Male', 'Student', 'Gryffindor', 'Unknown', 'Fox', 'Human', 'Half-blood', 'Sandy', '', \"Dumbledore's Army | Hogwarts School of Witchcraft and Wizardry\", 'Pyrotechnics', '\\xa01 September\\xa01979-\\xa031 August\\xa01981', '\\n'], ['12', 'Lily J. Potter', 'Female', '', 'Gryffindor', '\"10¼\"\"  Willow  unknown core\"', 'Doe', 'Human', 'Muggle-born', 'Auburn', 'Bright green', 'Order of the Phoenix', '', '30 January,\\xa01960\\xa0', '31 October,\\xa01981\\n'], ['13', 'James Potter', 'Male', '', 'Gryffindor', '\"11\"\"  Mahogany  unknown core\"', 'Stag', 'Human', 'Pure-blood', 'Black', 'Hazel', 'Order of the Phoenix', 'Animagus| Seeker', '27 March,\\xa01960', '31 October,\\xa01981\\n'], ['14', 'Sirius Black', 'Male', '', 'Gryffindor', 'Unknown', 'Unknown', 'Human', 'Pure-blood', 'Black', 'Grey', 'Order of the Phoenix', 'Animagus| nonverbal magic| Charms', '3 November,\\xa01959', '18 June,\\xa01996\\n'], ['15', 'Remus John Lupin', 'Male', 'Professor\\xa0of\\xa0Defence Against the Dark Arts\\xa0', 'Gryffindor', '\"10¼\"\" Cypress unicorn hair\"', 'Wolf', 'Werewolf', 'Half-blood', 'Light brown flecked with grey', 'Green', 'Order of the Phoenix', 'Exceptionally gifted in Defence Against the Dark Arts', '10 March,\\xa01960', '2 May,\\xa01998\\n'], ['16', 'Peter Pettigrew', 'Male', 'The Servant of Lord Voldemort', 'Gryffindor', '\"9¼\"\" Chestnut dragon heartstring\"', 'None', 'Human', 'Half-blood\\xa0or\\xa0pure-blood', 'Colourless and balding', 'Blue', 'Lord Voldemort| Death Eaters', 'Animagus', '1 September\\xa01959-\\xa031 August\\xa01960', 'Late\\xa0March\\xa01998\\n'], ['17', 'Percy Ignatius Weasley', 'Male', 'Student|Prefect|  Personal assistant to Barty Crouch Snr ', 'Gryffindor', 'Unknown', 'Unknown', 'Human', 'Pure-blood', 'Red', 'Blue', 'Order of the Phoenix| Hogwarts School of Witchcraft and Wizardry |British Ministry of Magic', 'Intelligent| hard-working| a model student', '22 August,\\xa01976\\xa0', '\\n'], ['18', '(Bill) William Arthur Weasley', 'Male', 'Curse-Breaker\\xa0for\\xa0Gringotts Bank', 'Gryffindor', 'Unknown', 'Unknown', 'Human\\xa0(Werewolf\\xa0traits)', 'Pure-blood', 'Red', 'Blue', 'Order of the Phoenix', 'Highly skilled curse-breaker for Gringotts Wizarding Bank| very intelligent| past Hogwarts Head Boy', '29 November, 1970', '\\n'], ['19', 'Charles Weasley', 'Male', 'Dragonologist', 'Gryffindor', '\"12\"\"  Ash unicorn tail hair\"', 'Unknown', 'Human', 'Pure-blood', 'Red', 'Grey', 'Order of the Phoenix | Gringotts Wizarding Bank', 'Highly skilled dragon trainer| one-time Gryffindor Seeker', '12 December,\\xa01972', '\\n'], ['20', 'Lee Jordan\\xa0', 'Male', 'Student', 'Gryffindor', 'Unknown', 'Unknown', 'Human', 'Pure-blood\\xa0or\\xa0half-blood', 'Black', 'Brown', \"Dumbledore's Army | Order of the Phoenix | Hogwarts School of Witchcraft and Wizardry\", 'Quidditch commentary | broadcasting', '\\xa01 September\\xa01977-\\xa031 August\\xa01978', '\\n'], ['21', 'Oliver Wood', 'Male', 'Student', 'Gryffindor', 'Unknown', 'Unknown', 'Human', 'Pure-blood\\xa0or\\xa0Half-blood', '', '', 'Hogwarts School of Witchcraft and Wizardry', 'Keeper|  Captain of the Gryffindor Quidditch team', '\\xa0October\\xa01975\\xa0-\\xa031 August\\xa01976', '\\n'], ['22', 'Angelina Johnson', 'Female', 'Student', 'Gryffindor', 'Unknown', 'Unknown', 'Human', 'Unknown', 'Brown', 'Brown', \"Dumbledore's Army |Hogwarts School of Witchcraft and Wizardry\", 'Chaser', '24\\xa0–\\xa030 October,\\xa01977', '\\n'], ['23', 'Katie Bell', 'Female', 'Student', 'Gryffindor', 'Unknown', 'Unknown', 'Human', 'Pure-blood\\xa0or\\xa0half-blood', 'Brown', 'Brown', \"Dumbledore's Army |Hogwarts School of Witchcraft and Wizardry\", 'Chaser', '\\xa01 September\\xa01978-\\xa031 August\\xa01979', '\\n'], ['24', 'Alicia Spinnet', 'Female', 'Student', 'Gryffindor', 'Unknown', 'Unknown', 'Human', 'Pure-blood\\xa0or\\xa0half-blood', 'Brown', 'Brown', \"Dumbledore's Army |Hogwarts School of Witchcraft and Wizardry\", 'Chaser', '1 September\\xa01977-\\xa031 August\\xa01978', '\\n'], ['25', 'Lavender Brown', 'Female', 'Student', 'Gryffindor', 'Unknown', 'Unknown', 'Human', 'Pure-blood', 'Blond', 'Blue', \"Dumbledore's Army |Hogwarts School of Witchcraft and Wizardry\", 'Divination', '\\xa01 September\\xa01979-\\xa031 August\\xa01980', '2 May,\\xa01998\\n'], ['26', 'Parvati Patil', 'Female', 'Student', 'Gryffindor', 'Unknown', 'Unknown', 'Human', 'Pure-blood\\xa0or\\xa0half-blood', 'Dark', 'Dark', \"Dumbledore's Army |Hogwarts School of Witchcraft and Wizardry\", 'Divination', '\\xa01 September\\xa01979- 21 April\\xa01980', '\\n'], ['27', 'Romilda Vane', 'Female', 'Student', 'Gryffindor', 'Unknown', 'Unknown', 'Human', 'Pure-blood\\xa0or\\xa0half-blood', 'Black', 'Dark', \"Dumbledore's Army |Hogwarts School of Witchcraft and Wizardry\", 'Spiking Chocolate Cauldrons with love potion', '\\xa01 September\\xa01981- 31 August\\xa01982', '\\n'], ['28', 'Colin Creevey', 'Male', 'Student', 'Gryffindor', 'Unknown', 'Unknown', 'Human', 'Muggle-born', 'Mousy', '', \"Dumbledore's Army |Hogwarts School of Witchcraft and Wizardry\", 'Photography', '\\xa03 May - 31 August\\xa01981', '2 May,\\xa01998\\n'], ['29', 'Cormac McLaggen', 'Male', 'Student', 'Gryffindor', 'Unknown', 'Unknown', 'Human', 'Pure-blood\\xa0or\\xa0half-blood', 'Blond', '', \"Dumbledore's Army |Hogwarts School of Witchcraft and Wizardry\", 'Quidditch Keeper', '\\xa01 September\\xa01978-\\xa031 August\\xa01979', '\\n'], ['30', 'Minerva McGonagall', 'Female', 'Professor\\xa0of\\xa0Transfiguration\\xa0| Head of Gryffindor', 'Gryffindor', '\"9½\"\" Fir dragon heartstring\"', 'Cat', 'Human', 'Half-blood', 'Black', 'Green', 'Albus Dumbledore | Order of the Phoenix | Hogwarts School of Witchcraft and Wizardry', 'Animagus\\xa0', '4 October', '\\n'], ['31', 'Molly Weasley', 'Female', '', 'Gryffindor', 'Unknown', 'Unknown', 'Human', 'Pure-blood', 'Red', 'Bright brown', 'Order of the Phoenix', 'Household spells| healing magic', '30 October,\\xa01949\\xa0', '\\n'], ['32', 'Arthur Weasley', 'Male', 'Head of the\\xa0Misuse of Muggle Artefacts Office', 'Gryffindor', 'Unknown', 'Weasel', 'Human', 'Pure-blood', 'Red', 'Green', 'Order of the Phoenix| British Ministry of Magic', 'Muggle world works', '6 February,\\xa01950', '\\n'], ['33', 'Quirinus Quirrell', 'Male', 'Defence Against the Dark Arts(1991-1992)', 'Ravenclaw', '\"9\"\" Alder unicorn hair bendy\"', 'Non-corporeal', 'Human', 'Half-blood', '', '', 'Lord Voldemort', 'Learned in the theory of Defensive Magic| less adept in the practise', '26 September,1970\\xa0or earlier', '4 June\\xa01992\\n'], ['34', 'Cho Chang', 'Female', 'Student', 'Ravenclaw', 'Unknown', 'Swan', 'Human', 'Pure-blood\\xa0or\\xa0half-blood', 'Black', 'Dark', \"Dumbledore's Army |Hogwarts School of Witchcraft and Wizardry\", 'Seeker', '1 September\\xa01978-31 August\\xa01979', '\\n'], ['35', 'Luna Lovegood', 'Female', 'Student', 'Ravenclaw', 'Unknown', 'Hare', 'Human', 'Pure-blood\\xa0or\\xa0half-blood', 'Dirty-blonde', 'Pale silvery', \"Dumbledore's Army |Hogwarts School of Witchcraft and Wizardry\", 'Spotting Nargles', '13 February,\\xa01981', '\\n'], ['36', 'Gilderoy Lockhart', 'Male', 'Defence Against the Dark Arts(1992-1993)', 'Ravenclaw', '\"9\"\" Cherry dragon heartstring\"', 'Non-corporeal', 'Human', 'Half-blood', 'Blond', 'Blue', '', '', '26 January 1964', '\\n'], ['37', 'Filius Flitwick', 'Male', 'Professor of Charms | Head of Ravenclaw', 'Ravenclaw', 'Unknown', 'Non-corporeal', 'Human(goblin ancestry)', 'Part-Goblin', 'White', '', '', 'Charms', '17 October\\xa01958\\xa0or earlier\\xa0', '\\n'], ['38', 'Sybill Patricia Trelawney', 'Female', 'Professor\\xa0of\\xa0Divination', 'Ravenclaw', '9 ½” hazel unicorn hair core', 'Non-corporeal', 'Human', 'Half-blood', '', '', '', 'A Seer, though the gift is unpredictable and unconscious', '9 March prior to 1962 ', '\\n'], ['39', 'Garrick Ollivander', 'Male', 'Wandmaker', 'Ravenclaw', '\"12¾\"\" Hornbeam dragon heartstring\"', 'Non-corporeal', 'Human', 'Half-blood', '', 'Silvery', '', 'An incomparable understanding of wandcraft', '25 September,\\xa0pre\\xa01908', '\\n'], ['40', 'Myrtle Elizabeth Warren (Moaning Myrtle)', 'Female', 'Student', 'Ravenclaw', 'Unknown', 'Unknown', 'Ghost', 'Muggle-born', '', '', '', '', '14 June\\xa01928\\xa0-13 June\\xa01929', '13 June,\\xa01943\\n'], ['41', 'Padma Patil', 'Female', 'Student', 'Ravenclaw', 'Unknown', 'Non-corporeal', 'Human', 'Pure-blood\\xa0or\\xa0half-blood', 'Dark', 'Dark', \"Dumbledore's Army |Hogwarts School of Witchcraft and Wizardry\", 'Prefect', '\\xa01 September\\xa01979 - 21 April\\xa01980', '\\n'], ['42', 'Michael Corner', 'Male', 'Student', 'Ravenclaw', 'Unknown', 'Squirrel', 'Human', 'Half-blood', 'Black', 'Brown', \"Dumbledore's Army |Hogwarts School of Witchcraft and Wizardry\", 'Potions', '\\xa01 September\\xa01979 - 31 August\\xa01980', '\\n'], ['43', 'Marietta Edgecombe', 'Female', 'Student', 'Ravenclaw', 'Unknown', 'Unknown', 'Human', 'Pure-blood\\xa0or\\xa0half-blood', 'Reddish-blonde', 'Grey', '', \"Covering up the spots that blight her face after betraying Dumbledore's Army\", '1978-1979', '\\n'], ['44', 'Terry Boot', 'Male', 'Student', 'Ravenclaw', 'Unknown', 'Unknown', 'Human', 'Pure-blood\\xa0or\\xa0half-blood', '', '', \"Dumbledore's Army |Hogwarts School of Witchcraft and Wizardry\", 'Potions, also knowledgable about Charms', '1 September\\xa01979-\\xa021 April\\xa01980', '\\n'], ['45', 'Anthony Goldstein', 'Male', 'Student', 'Ravenclaw', 'Unknown', 'Non-corporeal', 'Human', 'Half-blood', 'Blonde', 'Grey', \"Dumbledore's Army |Hogwarts School of Witchcraft and Wizardry\", 'Prefect', '\\xa01 September\\xa01979-\\xa031 August\\xa01980', '\\n'], ['46', 'Severus Snape', 'Male', 'Professor of Potions | Head of Slytherin', 'Slytherin', 'Unknown', 'Doe', 'Human', 'Half-blood', 'Black', 'Black', '', 'Extremely skilled at potions and Occlumency', '9 January 1960', '2 May,\\xa01998\\n'], ['47', 'Draco Malfoy', 'Male', 'Student', 'Slytherin', '\"10\"\" Hawthorn unicorn hair\"', 'Unknown', 'Human', 'Pure-blood', 'White-blond', 'Grey', '', 'Prefect, Seeker', '5 June, 1980', '\\n'], ['48', 'Vincent Crabbe', 'Male', 'Student', 'Slytherin', 'Unknown', 'Unknown', 'Human', 'Pure-blood', 'Black', 'Black', '', 'Beater', 'c. 1979-1980', '2 May,\\xa01998\\n'], ['49', 'Gregory Goyle', 'Male', 'Student', 'Slytherin', 'Unknown', 'Unknown', 'Human', 'Pure-blood', 'Brown', '', '', 'Beater', '1 September\\xa01979-31 August\\xa01980', '\\n'], ['50', 'Bellatrix Lestrange', 'Female', '', 'Slytherin', '\"12¾\"\" Walnut dragon heartstring\"', '', 'Human', 'Pure-blood', 'Black', '', 'Lord Voldemort \\xa0| Death Eaters', 'She is a duellist of great skill and an experienced Occlumens', '1951', '2 May,\\xa01998\\n'], ['51', 'Dolores Jane Umbridge', 'Female', 'Professor\\xa0of\\xa0Defence Against the Dark Arts\\xa0| Department of Magical Law Enforcement', 'Slytherin', '\"8\"\" Birch dragon heartstring\"', 'Cat', 'Human', 'Half-blood', 'Iron grey', '', 'Ministry of Magic', 'Her punishment quill is of her own invention', '26 August', '\\n'], ['52', 'Horace Eugene Flaccus Slughorn', '', 'Professor of Potions ', 'Slytherin', '\"10¼\"\" Cedar dragon heartstring fairly flexible\"', 'Non-corporeal', 'Human', 'Pure-blood\\xa0or\\xa0half-blood', 'Bald', 'Gooseberry', '', 'Accomplished Occlumens, expert Potioneer, advanced self-transfiguration', '28 April', '\\n'], ['53', 'Lucius Malfoy', 'Male', 'School Governor', 'Slytherin', 'Elm and dragon heartstring', 'Unknown', 'Human', 'Pure-blood', 'White-blond', 'Grey', 'Lord Voldemort \\xa0| Death Eaters', 'Skilled duellist and potioneer', 'c. 1954', '\\n'], ['54', 'Narcissa Malfoy', 'Female', '', 'Slytherin', 'Unknown', 'Unknown', 'Human', 'Pure-blood', 'Blonde', 'Blue', 'Lord Voldemort \\xa0| Death Eaters', '', '1955', '\\n'], ['55', 'Regulus Arcturus Black', 'Male', '', 'Slytherin', 'Unknown', 'Non-corporeal', 'Human', 'Pure-blood', 'Black', '', '', 'Seeker', '1961', '1979\\n'], ['56', 'Pansy Parkinson', 'Female', 'Student', 'Slytherin', 'Unknown', 'Unknown', 'Human', 'Pure-blood\\xa0or\\xa0half-blood', '', '', '', 'Prefect', '\\xa01 September\\xa01979- 31 August\\xa01980', '\\n'], ['57', 'Blaise Zabini', 'Male', 'Student', 'Slytherin', 'Unknown', 'Unknown', 'Human', 'Pure-blood\\xa0or\\xa0half-blood', 'Black', 'Brown', '', 'Chaser', '1 September,\\xa01979\\xa0–\\xa021 April,\\xa01980', '\\n'], ['58', 'Tom Marvolo Riddle', 'Male', 'Student', 'Slytherin', '\"13½\"\" Yew phoenix feather core\"', 'Unknown', 'Human', 'Half-blood', 'Bald', 'Scarlet\\xa0', '', 'Dark Lord, Outstanding manipulation, Parseltongue, Heir of Slytherin, Dark magic, Inferi creation and control', '31 December 1926', '2 May,\\xa01998\\n'], ['59', 'Theodore Nott', 'Male', 'Student', 'Slytherin', 'Unknown', 'Unknown', 'Human', 'Pure-blood', 'Brown', '', '', '', '1 September,\\xa01979\\xa0–\\xa021 April,\\xa01980', '\\n'], ['60', 'Rodolphus Lestrange', 'Male', '', 'Slytherin', 'Unknown', 'Unknown', 'Human', 'Pure-blood', 'Dark', 'Dark', 'Lord Voldemort \\xa0| Death Eaters', '', 'Pre\\xa01964', '\\n'], ['61', 'Millicent Bulstrode', 'Female', 'Student', 'Slytherin', 'Unknown', 'Unknown', 'Human', 'Half-blood', 'Black', '', '', '', '1 September\\xa01979-\\xa031 August\\xa01980\\xa0', '\\n'], ['62', 'Graham Montague', 'Male', 'Student', 'Slytherin', 'Unknown', 'Unknown', 'Human', 'Pure-blood\\xa0or\\xa0half-blood', 'Brown', 'Brown', '', 'Quidditch captain, Chaser', 'In or prior to c.1981', '\\n'], ['63', 'Bloody Baron', 'Male', 'Slytherin House Ghost', 'Slytherin', 'Unknown', 'Unknown', 'Ghost', 'Pure-blood\\xa0or\\xa0half-blood', '', '', '', 'Controlling Peeves', 'Post\\xa0982', '11th century\\n'], ['64', 'Marcus Flint', 'Male', 'Student', 'Slytherin', 'Unknown', 'Unknown', 'Human', 'Pure-blood\\xa0or\\xa0half-blood', 'Black', '', '', 'Chaser, Captain', '\\xa01 September\\xa01975-\\xa031 August\\xa01976', '\\n'], ['65', 'Penelope Clearwater', 'Female', 'Student', 'Ravenclaw', 'Unknown', 'Non-corporeal', 'Human', 'Muggle-born\\xa0or\\xa0half-blood[', 'Blonde', '', '', 'Prefect', '\\xa01 September\\xa01975-\\xa031 August\\xa01976', '\\n'], ['66', 'Roger Davies', 'Male', 'Student', 'Ravenclaw', 'Unknown', 'Unknown', 'Human', '', 'Dark', 'Dark', '', 'Quidditch Captain, Chaser', '\\xa01 September\\xa01977- 31 August\\xa01978', '\\n'], ['67', 'Marcus Belby', 'Male', 'Student', 'Ravenclaw', 'Unknown', 'Unknown', 'Human', 'Pure-blood\\xa0or\\xa0half-blood', 'Brown', 'Dark', '', '', '\\xa01 September\\xa01978 - 31 August\\xa01979', '\\n'], ['68', 'Salazar Slytherin', 'Male', 'Founder of Slytherin', 'Slytherin', 'snakewood, Basilisk horn', 'Unknown', 'Human', 'Pure-blood', 'Grey', 'Dark', '', 'Accomplished Legilimens and one of the first recorded Parselmouths', 'Pre\\xa0976', '11th century\\n'], ['69', 'Godric Gryffindor', 'Male', 'Founder of Gryffindor', 'Gryffindor', 'Unknown', 'Unknown', 'Human', 'Pure-blood or half-blood', 'Red', 'Green', '', 'The most accomplished duellist of his time', 'Pre\\xa0976', '11th century\\n'], ['70', 'Rowena Ravenclaw', 'Female', 'Founder of Ravenclaw', 'Ravenclaw', 'Unknown', 'Unknown', 'Human', 'Pure-blood or half-blood', 'Black', 'Dark', '', 'Extremely skilled witch, known for her intelligence and wisdom', 'Pre\\xa0976', '11th century\\n'], ['71', 'Nicholas de Mimsy-Porpington', 'Male', 'Gryffindor House Ghost', 'Gryffindor', 'Unknown', 'Unknown', 'Ghost', '', 'Grey', '', '', '', '1401\\xa0-1475', '31 October,\\xa01492\\n'], ['72', 'Cuthbert Binns', 'Male', 'Professor\\xa0of\\xa0History of Magic\\xa0', '', 'Unknown', 'Unknown', 'Ghost', '', 'White (balding)', 'Black', '', 'Boring a class with facts that might be interesting if anyone else was giving the lesson', '', 'Pre\\xa01970s\\n'], ['73', 'Barty Crouch Jr.', 'Male', 'Professor\\xa0of\\xa0Defence Against the Dark Arts\\xa0(as Alastor Moody)\\xa0', '', 'Unknown', 'Unknown', 'Human', 'Pure-blood\\xa0or\\xa0half-blood', 'Straw blond', 'Pale, freckled', 'Lord Voldemort \\xa0| Death Eaters', 'Skilled potioneer', '1962', '1995-1996\\n'], ['74', 'Charity Burbage', 'Female', 'Professor of Muggle Studies', '', 'Unknown', 'Non-corporeal', 'Human', 'Pure-blood\\xa0or\\xa0half-blood', 'Blonde', '', '', 'Teaching and studying the Muggle world', 'Before\\xa01976', 'Late\\xa0July, 1997\\n'], ['75', 'Firenze', 'Male', 'Professor\\xa0of\\xa0Divination', '', '', '', 'Centaur', '', 'White-blond', 'Astonishingly blue', '', '', '', '\\n'], ['76', 'Alecto Carrow', 'Female', 'Professor\\xa0of\\xa0Muggle Studies', 'Slytherin', 'Unknown', 'Unknown', 'Human', 'Pure-blood\\xa0or\\xa0half-blood', '', '', 'Lord Voldemort \\xa0| Death Eaters', 'Spreading anti-Muggle propaganda', 'Pre\\xa01981', '\\n'], ['77', 'Amycus Carrow', 'Male', 'Professor\\xa0of\\xa0Dark Arts', 'Slytherin', 'Unknown', 'Unknown', 'Human', 'Pure-blood\\xa0or\\xa0half-blood', '', '', 'Lord Voldemort \\xa0| Death Eaters', 'Cruciatus Curse', 'Pre\\xa01982', '\\n'], ['78', 'Helga Hufflepuff', 'Female', 'Founder of Hufflepuff', 'Hufflepuff', 'Unknown', 'Unknown', 'Human', 'Pure-blood\\xa0or\\xa0half-blood', 'Brown', 'Blue', '', 'Food-related Charms. Many traditional Hogwarts recipes originated with her', 'Pre\\xa0976', '11th century\\n'], ['79', 'Fat Friar', 'Male', 'Hufflepuff House Ghost', 'Hufflepuff', 'Unknown', 'Unknown', 'Ghost', '', 'Brown', '', '', 'Curing peasants of the pox', '10th century', 'Pre\\xa01988\\n'], ['80', 'Helena Ravenclaw', 'Female', 'Ravenclaw House Ghost', 'Ravenclaw', 'Unknown', 'Unknown', 'Ghost', 'Pure-blood\\xa0or\\xa0half-blood', 'Black', 'Grey', '', '', 'Post\\xa0982', '996-1000\\n'], ['81', 'Nymphadora Tonks', 'Female', 'Auror', 'Hufflepuff', 'Unknown', 'Jack rabbit, Wolf', 'Human', 'Half-blood', 'Variable', 'Variable', 'Ministry of Magic | Order of the Phoenix', 'Talented Auror, Metamorphmagus', '\\xa01 September\\xa01972-\\xa031 August\\xa01973', '2 May,\\xa01998\\n'], ['82', 'Pomona Sprout', 'Female', 'Professor of Herbology | Head of Hufflepuff House', 'Hufflepuff', 'Unknown', 'Non-corporeal', 'Human', 'Pure-blood\\xa0or\\xa0half-blood', '', 'Grey', '', 'Herbology', '15 May', '\\n'], ['83', 'Newton Scamander', 'Male', 'Employee in the\\xa0Beast Division\\xa0of the\\xa0Department for the Regulation and Control of Magical Creatures', 'Hufflepuff', 'Unknown', 'Unknown', 'Human', 'Pure-blood\\xa0or\\xa0half-blood', 'Red brown', 'Blue', '', 'Magizoology, Order of Merlin, Second Class', '24 February 1897', '\\n'], ['84', 'Cedric Diggory', 'Male', 'Student', 'Hufflepuff', '\"12¼\"\", Ash, unicorn hair\"', 'Unknown', 'Human', 'Pure-blood', 'Dark', 'Grey', '', 'Skilled Seeker', '1 September\\xa0- 30 October\\xa01977', '24 June, 1995\\n'], ['85', 'Justin Finch-Fletchley', 'Male', 'Student', 'Hufflepuff', 'Unknown', 'Non-corporeal', 'Human', 'Muggle-born', 'Red', '', \"Dumbledore's Army\", '', '1 September\\xa01979- 31 August\\xa01980', '\\n'], ['86', 'Zacharias Smith', 'Male', 'Student', 'Hufflepuff', 'Unknown', 'Unknown', 'Human', 'Pure-blood\\xa0or\\xa0half-blood', 'Blonde', '', \"Dumbledore's Army\", 'Chaser', '1 September\\xa01979 -\\xa02 May\\xa01981', '\\n'], ['87', 'Hannah Abbott', 'Female', 'Student', 'Hufflepuff', 'Unknown', 'Non-corporeal', 'Human', 'Half-blood', 'Blonde', 'Brown', \"Dumbledore's Army\", \"Defensive spells, learned with Dumbledore's Army\", '1 September\\xa01979 -\\xa031 August\\xa01980', '\\n'], ['88', 'Ernest Macmillan', 'Male', 'Student', 'Hufflepuff', 'Unknown', 'Boar', 'Human', 'Pure-blood', 'Blond', '', \"Dumbledore's Army\", 'Revising, being a Prefect, getting the wrong end of the stick', '21 April\\xa01980\\xa0- 31 August\\xa01980', '\\n'], ['89', 'Susan Bones', 'Female', 'Student', 'Hufflepuff', 'Unknown', 'Unknown', 'Human', 'Half-blood', '', '', \"Dumbledore's Army\", \"Defensive spells, learned with Dumbledore's Army\", '1 September\\xa01979 - 31 August\\xa01980', '\\n'], ['90', 'Walden Macnair', 'Male', 'Executioner\\xa0for the\\xa0Committee for the Disposal of Dangerous Creatures', 'Slytherin', 'Unknown', 'Unknown', 'Human', 'Pure-blood\\xa0or\\xa0half-blood', 'Black', '', 'Lord Voldemort \\xa0| Death Eaters', 'Liaising with giants', 'In or before\\xa01970s', '\\n'], ['91', 'Augustus Rookwood', 'Male', 'Unspeakable', 'Slytherin', 'Unknown', 'None', 'Human', 'Pure-blood\\xa0or\\xa0half-blood', 'Brown/greying', '', 'Lord Voldemort \\xa0| Death Eaters', 'Spying for Lord Voldemort', 'pre\\xa01964', '\\n'], ['92', 'Antonin Dolohov', 'Male', 'Death Eater', 'Slytherin', 'Unknown', 'None', 'Human', 'Pure-blood\\xa0or\\xa0Half-blood', 'Dark', '', 'Lord Voldemort \\xa0| Death Eaters', \"Duelling. Fought and killed Molly Weasley's brothers and Remus Lupin\", 'pre\\xa01950', '\\n'], ['93', 'Corban Yaxley', 'Male', 'Head of the\\xa0Department of Magical Law Enforcement', 'Slytherin', 'Unknown', 'None', 'Human', 'Pure-blood\\xa0or\\xa0Half-blood', 'Blonde', 'Blue', 'Lord Voldemort \\xa0| Death Eaters', 'Imperius curse, undercover work', 'Pre\\xa01970s', '\\n'], ['94', 'Igor Karkaroff', 'Male', 'Headmaster of\\xa0Durmstrang Institute', '', 'Unknown', 'None', 'Human', 'Pure-blood\\xa0or\\xa0Half-blood', 'Silver| formerly black', '', '', 'Skilled in the Dark Arts', 'pre\\xa01965', '24 June,\\xa01995\\xa0–\\xa031 July,\\xa01996\\n'], ['95', 'Kingsley Shacklebolt', 'Male', 'Auror  | Minister for Magic', '', 'Unknown', 'Lynx', 'Human', 'Pure-blood', 'Bald', 'Black', 'Order of the Phoenix', 'Exceptionally skilled duellist and Auror', 'Pre\\xa01973', '\\n'], ['96', 'Alastor Moody', 'Male', 'Auror ', '', 'Unknown', 'Non-corporeal', 'Human', 'Pure-blood', 'Grey', 'One dark,\\xa0one electric blue', 'Order of the Phoenix', 'A highly accomplished Auror and an outstanding duellist, also skilled in non-verbal magic', 'Pre\\xa01960', '27 July,\\xa01997\\n'], ['97', 'Alice Longbottom', 'Female', 'Auror', '', 'Unknown', 'Unknown', 'Human', 'Pure-blood', 'Blonde', '', 'Original Order of the Phoenix', 'Auror', '', '\\n'], ['98', 'Frank Longbottom', 'Male', 'Auror', 'Gryffindor', 'Inherited by his son, Neville. It was broken in battle at the Department of Mysteries.', 'Unknown', 'Human', 'Pure-blood', 'Blonde', '', 'Original Order of the Phoenix', 'Auror', '\\xa01 September\\xa01957\\xa0-\\xa031 August\\xa01959\\xa0or earlier', '\\n'], ['99', 'Rufus Scrimgeour', 'Male', 'Head of\\xa0Auror Office| Minister for Magic', '', 'Unknown', 'Non-corporeal', 'Human', '', 'Tawny', 'Yellowish', 'Minister of Magic', 'Highly regarded as a skilled Auror', 'Pre\\xa01968', '1 August,\\xa01997\\n'], ['100', 'Cornelius Oswald Fudge', 'Male', 'Minister for Magic', '', 'Unknown', 'Non-corporeal', 'Human', 'Pure-blood\\xa0or\\xa0Half-blood', 'Grey', '', 'Minister of Magic', 'Turning a blind eye to the continuing threat of Dark Magic in the name of keeping up morale', 'Pre\\xa01964', '\\n'], ['101', 'Barty Crouch Sr.', 'Male', 'Head of the\\xa0Department of International Magical Cooperation', '', 'Unknown', 'Non-corporeal', 'Human', 'Pure-blood', 'Grey', '', 'Minister of Magic', 'Multilingual, able to fight the Imperius curse', 'Pre\\xa01940', '27 May, 1995\\n'], ['102', 'Amos Diggory', 'Male', 'Employee of the\\xa0Department for the Regulation and Control of Magical Creatures[', '', 'Unknown', 'Non-corporeal', 'Human', 'Pure-blood\\xa0or\\xa0half-blood', 'Brown', 'Ruddy', 'Minister of Magic', 'Works for the Department for the Regulation and Control of Magical Creatures', '', '\\n'], ['103', 'Dedalus Diggle', 'Male', '', '', 'Unknown', 'Non-corporeal', 'Human', 'Pure-blood\\xa0or\\xa0half-blood', '', '', 'Order of the Phoenix', 'An enthusiastic volunteer for the Order and a helpful escort for Harry and his relatives', 'Pre\\xa01964', '\\n'], ['104', 'Elphias Doge', 'Male', 'Special Advisor to the Wizengamot', '', 'Unknown', 'Non-corporeal', 'Human', 'Pure-blood', 'Silver', 'Grey/Blue[', 'Order of the Phoenix', 'Writing', ' 1 September 1880 - 31 August 1881', '\\n'], ['105', 'Fleur Isabelle Delacour', 'Female', 'Part-time at\\xa0Gringotts Wizarding Bank', 'Beauxbatons Academy of Magic', '\"9½\"\", Rosewood, veela hair\"', 'Non-corporeal', 'Human', 'Quarter-Veela', 'Silvery-blonde', 'Dark blue[', 'Order of the Phoenix', 'part Veela, and therefore possesses some of their magical powers. She was also selected to compete in the Triwizard Tournament', 'Pre\\xa030 October,\\xa01977', '\\n'], ['106', 'Aberforth Dumbledore', 'Male', \"Owner and Barman of the\\xa0Hog's Head Inn\", '', 'Unknown', 'Goat', 'Human', 'Half-blood', 'Grey', 'Bright Blue', 'Order of the Phoenix', 'Bartending, caring for Ariana', '\\xa01 September\\xa01883-31 August\\xa01884', '\\n'], ['107', 'Mundungus Fletcher', 'Male', 'Dealer of wizarding artifacts', '', 'Unknown', 'Non-corporeal', 'Human', 'Half-blood[', 'Ginger', 'Brown', 'Order of the Phoenix', \"Gathering information for the Order, dealing in stolen cauldrons, 'acquiring' the odd Muggle car\", 'Before\\xa01962', '\\n'], ['108', 'Sturgis Podmore', 'Male', 'Advance Guard', '', 'Unknown', 'Unknown', 'Human', 'Pure-blood\\xa0or\\xa0half-blood', 'Straw-coloured', 'Brown', 'Order of the Phoenix', 'Carrying out guard duty for the Order', '\\xa08 September\\xa01956 -\\xa07 September\\xa01957', '\\n'], ['109', 'Hestia Jones', 'Female', 'Advance Guard', '', 'Unknown', 'Unknown', 'Human', 'Pure-blood\\xa0or\\xa0half-blood', 'Black', '', 'Order of the Phoenix', 'Carrying out escort missions for the Order', 'Pre 1978', '\\n'], ['110', 'Marlene McKinnon', 'Female', '', '', 'Unknown', 'Unknown', 'Human', '', 'Red', 'Brown', 'Original Order of the Phoenix', '', '', 'July,\\xa01981\\n'], ['111', 'Fabian Prewett', 'Male', '', '', 'Unknown', 'Unknown', 'Human', 'Pure-blood', 'Red', 'Grey', 'Original Order of the Phoenix', 'Duelling', '', '1981\\n'], ['112', 'Gideon Prewett', 'Male', '', '', 'Unknown', 'Unknown', 'Human', 'Pure-blood', 'Red ', 'Dark Grey', 'Original Order of the Phoenix', 'Duelling', '', '1981\\n'], ['113', 'Emmeline Vance', 'Female', 'Advance Guard', '', 'Unknown', 'Unknown', 'Human', '', '', '', 'Order of the Phoenix', '', 'pre\\xa01964', 'Early\\xa0July,\\xa01996\\n'], ['114', 'Edgar Bones', 'Male', '', 'Hufflepuff', 'Unknown', 'Unknown', 'Human', 'Pure-blood\\xa0or\\xa0half-blood', 'Reddish-brown', 'Grey', 'Original Order of the Phoenix', 'Said to be a great wizard', '', '1981\\n'], ['115', 'Dorcas Meadowes', 'Female', '', '', 'Unknown', 'Unknown', 'Human', '', 'Black', 'Brown', 'Original Order of the Phoenix', '', '', '1981\\n'], ['116', 'Benjy Fenwick', 'Male', '', '', 'Unknown', 'Unknown', 'Human', '', 'Black', 'Black', 'Original Order of the Phoenix', '', '', '1981\\n'], ['117', 'Madame Olympe Maxime', 'Female', 'Headmistress of\\xa0Beauxbatons Academy of Magic', 'Beauxbatons Academy of Magic', 'Unknown', 'Unknown', 'Half-Human/Half-Giant', 'Part-Human\\xa0(Half-giant)', 'Brown', 'Black', '', 'An ‘excellent dancer’, in the words of Dumbledore himself', '', '\\n'], ['118', 'Gabrielle Delacour', 'Female', '', 'Beauxbatons Academy of Magic', 'Unknown', 'Unknown', 'Human\\xa0', 'Quarter-Veela', 'Silvery-blonde', '', '', 'part Veela and therefore may possess some of their magical powers', '\\xa031 July\\xa01985 -\\xa030 July\\xa01986', '\\n'], ['119', 'Viktor Krum', 'Male', 'Seeker\\xa0for the\\xa0Bulgarian National Quidditch team', 'Durmstrang Institute', '\"10¼\"\", Hornbeam, dragon heartstring\"', 'Unknown', 'Human\\xa0', 'Pure-blood\\xa0or\\xa0half-blood', 'Dark', 'Dark', '', 'One of the best Seekers in the world', 'April-August,\\xa01976', '\\n'], ['120', 'Petunia Dursley', 'Female', '', '', '', '', 'Human\\xa0', 'Muggle', 'Blonde', '', '', '', 'Pre\\xa01960', '\\n'], ['121', 'Vernon Dursley', 'Male', 'Director at\\xa0Grunnings', '', '', '', 'Human\\xa0', 'Muggle', 'Black', '', '', \"Schmoozing clients, pretending magic doesn't exist\", 'Pre\\xa01954', '\\n'], ['122', 'Dudley Dursley', 'Male', '', '', '', '', 'Human\\xa0', 'Muggle', 'Blond', 'Blue', '', '', '\\xa023 June\\xa01980', '\\n'], ['123', 'Marge Dursley', 'Female', 'Dog breeder', '', '', '', 'Human\\xa0', 'Muggle', 'Grey', '', '', 'Breeding bulldogs', 'Pre\\xa01954', '\\n'], ['124', 'Dennis Creevey', 'Male', 'Student', 'Gryffindor', 'Unknown', 'Unknown', 'Human\\xa0', 'Muggle-born', 'Mousy brown', '', \"Dumbledore's Army\", '', '\\xa01 September\\xa01982 - 31 August\\xa01983', '\\n'], ['125', 'Albus Severus Potter', 'Male', 'Student', 'Slytherin', 'Unknown', 'Unknown', 'Human\\xa0', 'Half-blood', 'Jet-black', 'Bright green', '', '', 'Between\\xa01 September\\xa02005-31 August\\xa02006', '\\n'], ['126', 'Scorpius Hyperion Malfoy', 'Male', 'Student', 'Slytherin', 'Unknown', 'Unknown', 'Human\\xa0', 'Pure-blood', 'White blond', 'Grey', '', '', 'Between\\xa01 September\\xa02005-31 August\\xa02007', '\\n'], ['127', 'Edward Remus Lupin', 'Male', 'Student', 'Hufflepuff', 'Unknown', 'Unknown', 'Human\\xa0(Metamorphmagus)', 'Half-blood', 'Variable', 'Variable', '', '', 'April,\\xa01998', '\\n'], ['128', 'James Sirius Potter', 'Male', 'Student', 'Gryffindor', 'Unknown', 'Unknown', 'Human\\xa0', 'Half-blood', '', '', '', '', '1 September\\xa02003-31 August\\xa02004', '\\n'], ['129', 'Rose Granger-Weasley', 'Female', 'Student', 'Gryffindor', 'Unknown', 'Unknown', 'Human\\xa0', 'Half-blood', 'Red', '', '', 'Chaser', '1 September\\xa02005-31 August\\xa02006\\xa0', '\\n'], ['130', 'Argus Filch', 'Male', 'Caretaker of\\xa0Hogwarts', '', '', '', 'Human\\xa0', 'Squib', 'Grey', 'Pale', 'Hogwarts School of Witchcraft and Wizardry', 'Sniffing out mischief', 'Pre\\xa01951', '\\n'], ['131', 'Poppy Pomfrey', 'Female', 'Matron at\\xa0Hogwarts School', '', 'Unknown', 'Non-corporeal', 'Human\\xa0', 'Pure-blood\\xa0or\\xa0half-blood', '', '', 'Hogwarts School of Witchcraft and Wizardry', 'Skilled medical healer', 'pre\\xa01954', '\\n'], ['132', 'Rolanda Hooch', 'Female', 'Flying Instructor at Hogwarts', '', 'Unknown', 'Non-corporeal', 'Human\\xa0', '', 'Grey', 'Yellow', 'Hogwarts School of Witchcraft and Wizardry', 'Teaching, flying, refereeing Quidditch matches', 'pre\\xa01918', '\\n'], ['133', 'Irma Pince', 'Female', 'Librarian at Hogwarts', '', 'Unknown', 'Non-corporeal', 'Human\\xa0', '', '', '', 'Hogwarts School of Witchcraft and Wizardry', '', 'Pre\\xa01966', '\\n'], ['134', 'Aurora Sinistra', 'Female', 'Astronomer at Hogwarts', '', 'Unknown', 'Unknown', 'Human\\xa0', 'Pure-blood\\xa0or\\xa0half-blood', 'Dark', 'Dark', 'Hogwarts School of Witchcraft and Wizardry', '', 'Pre\\xa01968', '\\n'], ['135', 'Septima Vector', 'Female', 'Professor\\xa0of\\xa0Arithmancyat\\xa0Hogwarts', '', 'Unknown', 'Unknown', 'Human\\xa0', '', 'Black', '', 'Hogwarts School of Witchcraft and Wizardry', '', 'Before\\xa01974', '\\n'], ['136', 'Wilhelmina Grubbly-Plank', 'Female', 'Substitute professor\\xa0of\\xa0Care of Magical Creatures\\xa0at\\xa0Hogwarts', '', 'Unknown', 'Non-corporeal', 'Human\\xa0', '', 'Grey', '', 'Hogwarts School of Witchcraft and Wizardry', '', '', '\\n'], ['137', 'Fenrir Greyback', 'Male', '', '', 'Unknown', 'None', 'Werewolf', '', 'Grey', '', 'Lord Voldemort \\xa0| Death Eaters', 'Physical combat', 'Pre\\xa01945', '\\n'], ['138', 'Gellert Grindelwald', 'Male', 'Revolutionary leader(c.\\xa01920s[6]\\xa0–\\xa01945)', '', '\"15\"\", Elder, Thestral tail hair core\"', '', 'Human\\xa0', 'Pure-blood\\xa0or\\xa0half-blood', 'Blond', 'Blue', \"Gellert Grindelwald's Acolytes\", 'Duelling', '1883', 'March,\\xa01998\\n'], ['139', 'Dobby', 'Male', \"Malfoy family's house-elf (? - 1993), Hogwarts kitchens worker (December 1994 - 1998)\", '', '', '', 'House elf', '', 'Green', '', '', 'A type of magic specific to house-elves, performed without a wand which includes the ability to apparate, disarm and make objects levitate', '28 June', 'Late\\xa0March,\\xa01998\\n'], ['140', 'Kreacher', 'Male', \"Black family's house-elf (?-1996), Harry Potter's house-elf, Hogwarts kitchen worker \", '', '', '', 'House elf', '', 'White', '', '', 'Magic performed without a wand which includes the ability to apparate, disarm and make objects levitate', '', '\\n']]\n"
     ]
    }
   ],
   "source": [
    "with open(\"Characters.csv\", mode='r', encoding='utf-8') as f:\n",
    "    ligne_des_descripteurs = f.readline()\n",
    "    poudlard = []\n",
    "    for ligne in f:\n",
    "        poudlard.append(ligne.split(';'))\n",
    "\n",
    "print(poudlard)"
   ]
  },
  {
   "cell_type": "markdown",
   "metadata": {},
   "source": [
    "__Dans ce tableau, rechercher :__\n",
    "\n",
    "- le personnage ayant pour Patronus un écureuil (Squirrel)\n",
    "- le(s) personnage(s) ayant les cheveux roux (Red)\n",
    "- le(s) personnage(s) ayant les cheveux roux (Red) et les yeux verts\n",
    "- le(s) personnage(s) né(s) un \"27 March\"\n",
    "- les personnages loyaux à Lord Voldemort"
   ]
  },
  {
   "cell_type": "code",
   "execution_count": 8,
   "metadata": {},
   "outputs": [
    {
     "name": "stdout",
     "output_type": "stream",
     "text": [
      "Ronald Bilius Weasley a des cheveux roux\n",
      "Fred Weasley a des cheveux roux\n",
      "George Weasley a des cheveux roux\n",
      "Ginevra (Ginny) Molly Weasley a des cheveux roux\n",
      "James Potter est né(e) un 27 Mars\n",
      "Peter Pettigrew est loyal à Lord Voldemort\n",
      "Percy Ignatius Weasley a des cheveux roux\n",
      "(Bill) William Arthur Weasley a des cheveux roux\n",
      "Charles Weasley a des cheveux roux\n",
      "Molly Weasley a des cheveux roux\n",
      "Arthur Weasley a des cheveux roux\n",
      "Arthur Weasley a des cheveux roux et des yeux verts\n",
      "Quirinus Quirrell est loyal à Lord Voldemort\n",
      "Michael Corner a pour Patronus un écureuil\n",
      "Bellatrix Lestrange est loyal à Lord Voldemort\n",
      "Lucius Malfoy est loyal à Lord Voldemort\n",
      "Narcissa Malfoy est loyal à Lord Voldemort\n",
      "Rodolphus Lestrange est loyal à Lord Voldemort\n",
      "Godric Gryffindor a des cheveux roux\n",
      "Godric Gryffindor a des cheveux roux et des yeux verts\n",
      "Barty Crouch Jr. est loyal à Lord Voldemort\n",
      "Alecto Carrow est loyal à Lord Voldemort\n",
      "Amycus Carrow est loyal à Lord Voldemort\n",
      "Justin Finch-Fletchley a des cheveux roux\n",
      "Walden Macnair est loyal à Lord Voldemort\n",
      "Augustus Rookwood est loyal à Lord Voldemort\n",
      "Antonin Dolohov est loyal à Lord Voldemort\n",
      "Corban Yaxley est loyal à Lord Voldemort\n",
      "Marlene McKinnon a des cheveux roux\n",
      "Fabian Prewett a des cheveux roux\n",
      "Rose Granger-Weasley a des cheveux roux\n",
      "Fenrir Greyback est loyal à Lord Voldemort\n"
     ]
    }
   ],
   "source": [
    "for eleve in poudlard:\n",
    "    if eleve[6] == 'Squirrel':\n",
    "        print(f\"{eleve[1]} a pour Patronus un écureuil\")\n",
    "    if eleve[9] == 'Red':\n",
    "        print(f\"{eleve[1]} a des cheveux roux\")\n",
    "    if eleve[9] == 'Red' and eleve[10] == 'Green':\n",
    "        print(f\"{eleve[1]} a des cheveux roux et des yeux verts\")\n",
    "    if '27 March' in eleve[13]:\n",
    "        print(f\"{eleve[1]} est né(e) un 27 Mars\")\n",
    "    if 'Lord Voldemort' in eleve[11]:\n",
    "        print(f\"{eleve[1]} est loyal à Lord Voldemort\")"
   ]
  },
  {
   "cell_type": "markdown",
   "metadata": {},
   "source": [
    "__Supprimer de ce tableau tous les membres de la Maison Griffondor__. Combien reste-t-il d'élèves ?"
   ]
  },
  {
   "cell_type": "code",
   "execution_count": null,
   "metadata": {},
   "outputs": [],
   "source": [
    "for eleve in poudlard:\n",
    "    if eleve[4] == \"Gryffindor\":\n",
    "        poudlard.remove(eleve)\n",
    "print(len(poudlard))"
   ]
  },
  {
   "cell_type": "markdown",
   "metadata": {},
   "source": [
    "### Les élèves de Poudlard dans un tuple\n",
    "\n",
    "Utiliser le tableau du nom des élèves crée ci-dessus pour créer un tuple contenant les noms des élèves."
   ]
  },
  {
   "cell_type": "code",
   "execution_count": 10,
   "metadata": {
    "scrolled": true
   },
   "outputs": [
    {
     "name": "stdout",
     "output_type": "stream",
     "text": [
      "('Harry James Potter', 'Ronald Bilius Weasley', 'Hermione Jean Granger', 'Albus Percival Wulfric Brian Dumbledore', 'Rubeus Hagrid', 'Neville Longbottom', 'Fred Weasley', 'George Weasley', 'Ginevra (Ginny) Molly Weasley', 'Dean Thomas', 'Seamus Finnigan', 'Lily J. Potter', 'James Potter', 'Sirius Black', 'Remus John Lupin', 'Peter Pettigrew', 'Percy Ignatius Weasley', '(Bill) William Arthur Weasley', 'Charles Weasley', 'Lee Jordan\\xa0', 'Oliver Wood', 'Angelina Johnson', 'Katie Bell', 'Alicia Spinnet', 'Lavender Brown', 'Parvati Patil', 'Romilda Vane', 'Colin Creevey', 'Cormac McLaggen', 'Minerva McGonagall', 'Molly Weasley', 'Arthur Weasley', 'Quirinus Quirrell', 'Cho Chang', 'Luna Lovegood', 'Gilderoy Lockhart', 'Filius Flitwick', 'Sybill Patricia Trelawney', 'Garrick Ollivander', 'Myrtle Elizabeth Warren (Moaning Myrtle)', 'Padma Patil', 'Michael Corner', 'Marietta Edgecombe', 'Terry Boot', 'Anthony Goldstein', 'Severus Snape', 'Draco Malfoy', 'Vincent Crabbe', 'Gregory Goyle', 'Bellatrix Lestrange', 'Dolores Jane Umbridge', 'Horace Eugene Flaccus Slughorn', 'Lucius Malfoy', 'Narcissa Malfoy', 'Regulus Arcturus Black', 'Pansy Parkinson', 'Blaise Zabini', 'Tom Marvolo Riddle', 'Theodore Nott', 'Rodolphus Lestrange', 'Millicent Bulstrode', 'Graham Montague', 'Bloody Baron', 'Marcus Flint', 'Penelope Clearwater', 'Roger Davies', 'Marcus Belby', 'Salazar Slytherin', 'Godric Gryffindor', 'Rowena Ravenclaw', 'Nicholas de Mimsy-Porpington', 'Cuthbert Binns', 'Barty Crouch Jr.', 'Charity Burbage', 'Firenze', 'Alecto Carrow', 'Amycus Carrow', 'Helga Hufflepuff', 'Fat Friar', 'Helena Ravenclaw', 'Nymphadora Tonks', 'Pomona Sprout', 'Newton Scamander', 'Cedric Diggory', 'Justin Finch-Fletchley', 'Zacharias Smith', 'Hannah Abbott', 'Ernest Macmillan', 'Susan Bones', 'Walden Macnair', 'Augustus Rookwood', 'Antonin Dolohov', 'Corban Yaxley', 'Igor Karkaroff', 'Kingsley Shacklebolt', 'Alastor Moody', 'Alice Longbottom', 'Frank Longbottom', 'Rufus Scrimgeour', 'Cornelius Oswald Fudge', 'Barty Crouch Sr.', 'Amos Diggory', 'Dedalus Diggle', 'Elphias Doge', 'Fleur Isabelle Delacour', 'Aberforth Dumbledore', 'Mundungus Fletcher', 'Sturgis Podmore', 'Hestia Jones', 'Marlene McKinnon', 'Fabian Prewett', 'Gideon Prewett', 'Emmeline Vance', 'Edgar Bones', 'Dorcas Meadowes', 'Benjy Fenwick', 'Madame Olympe Maxime', 'Gabrielle Delacour', 'Viktor Krum', 'Petunia Dursley', 'Vernon Dursley', 'Dudley Dursley', 'Marge Dursley', 'Dennis Creevey', 'Albus Severus Potter', 'Scorpius Hyperion Malfoy', 'Edward Remus Lupin', 'James Sirius Potter', 'Rose Granger-Weasley', 'Argus Filch', 'Poppy Pomfrey', 'Rolanda Hooch', 'Irma Pince', 'Aurora Sinistra', 'Septima Vector', 'Wilhelmina Grubbly-Plank', 'Fenrir Greyback', 'Gellert Grindelwald', 'Dobby', 'Kreacher')\n"
     ]
    }
   ],
   "source": [
    "tuple_eleves = tuple(tableau_eleves)\n",
    "print(tuple_eleves)"
   ]
  },
  {
   "cell_type": "markdown",
   "metadata": {},
   "source": [
    "__Vérifier le nombre d'élèves__ de l'école de Poudlard (anciens ou présents)."
   ]
  },
  {
   "cell_type": "code",
   "execution_count": null,
   "metadata": {},
   "outputs": [],
   "source": [
    "print(len(tuple_eleves))"
   ]
  },
  {
   "cell_type": "markdown",
   "metadata": {},
   "source": [
    "__Compter le nombre de membres de la famille Weasley__ étant passés par l'école de Poudlard."
   ]
  },
  {
   "cell_type": "code",
   "execution_count": 11,
   "metadata": {},
   "outputs": [
    {
     "name": "stdout",
     "output_type": "stream",
     "text": [
      "10 membres de la famille Weasley sont passés par Poudlard\n"
     ]
    }
   ],
   "source": [
    "compteur = 0\n",
    "for eleve in tuple_eleves:\n",
    "    if 'Weasley' in eleve:\n",
    "        compteur += 1\n",
    "print(f\"{compteur} membres de la famille Weasley sont passés par Poudlard\")"
   ]
  },
  {
   "cell_type": "markdown",
   "metadata": {},
   "source": [
    "## Que retenir ?\n",
    "### À minima...\n",
    "\n",
    "- Un objet de type tableau, est une suite ordonnée modifiable d’éléments indexés qui peuvent être chacun de n’importe quel type.\n",
    "- En Python, un tableau est de type `list`.\n",
    "- Contrairement à un tuple, on peut modifier une liste : changer ses valeurs et même changer sa longueur.\n",
    "- Pour créer une liste, il suffit de lui affecter une suite de valeurs, séparées par des virgules, le tout entre crochets (ex :`[12, 552, 43, 48, 35, 126]`).\n",
    "- On peut d'ajouter des éléments dans une liste à l'aide de la méthode `.append()`. On peut ainsi partir d'une liste vide (`[]`) puis lui ajouter des éléments un à un.\n",
    "- On peut connaître le nombre de valeurs incluses dans une liste à l'aide de la fonction `len()`.\n",
    "\n",
    "### Au mieux...\n",
    "\n",
    "- On peut aussi créer une liste \"en compréhension\". La boucle `for` est très utile pour cela.\n",
    "- Le slicing permet de créer de nouveaux tableaux à partir d'éléments d'un tableau existant.\n",
    "- Outre la méthode `.append()`, il existe de nombreuses autres méthodes utiles à appliquer à une liste :\n",
    "  - `.extend()` permet d'ajouter des valeurs d'une liste à une autre liste.\n",
    "  - `.index()` permet de connaître l'indice d'une valeur.\n",
    "  - `.count()` permet de compter l'occurrence d'une valeur.\n",
    "  - `.clear()` permet de vider une liste.\n",
    "  - `.pop()` permet d'extraire la dernière valeur.\n",
    "  - `.remove()` permet de supprimer une certaine valeur.\n",
    "  - `.reverse()` permet d'inverser l'ordre.\n",
    "  - `.sort()` permet de trier.\n",
    "  - `.copy()` permet de copier une liste.\n",
    "- Le document [Listes-en-Python.pdf](https://gitlab.com/david_landry/nsi/-/blob/master/3%20-%20Repr%C3%A9sentations%20des%20donn%C3%A9es%20-%20Types%20construits/Listes-en-Python.pdf), crée par le collègue Tristan LEY reprend sur 2 pages l'essentiel de ce cours, et parfois un peu plus..."
   ]
  },
  {
   "cell_type": "markdown",
   "metadata": {},
   "source": [
    "---\n",
    "[![Licence CC BY NC SA](https://licensebuttons.net/l/by-nc-sa/3.0/88x31.png \"licence Creative Commons CC BY-NC-SA\")](http://creativecommons.org/licenses/by-nc-sa/3.0/fr/)\n",
    "<p style=\"text-align: center;\">Auteur : David Landry, Lycée Clemenceau - Nantes</p>\n",
    "<p style=\"text-align: center;\">D'après des documents partagés par...</p>\n",
    "<p style=\"text-align: center;\"><a  href=http://www.monlyceenumerique.fr/index_nsi.html#premiere>Jean-Christophe Gérard, Thomas Lourdet, Johan Monteillet, Pascal Thérèse</a></p>\n",
    "<p style=\"text-align: center;\"><a  href=https://eduscol.education.fr/cid144156/nsi-bac-2021.html>Le Ministère de l'éducation nationale, sur Eduscol</a></p>"
   ]
  }
 ],
 "metadata": {
  "kernelspec": {
   "display_name": "Python 3 (ipykernel)",
   "language": "python",
   "name": "python3"
  },
  "language_info": {
   "codemirror_mode": {
    "name": "ipython",
    "version": 3
   },
   "file_extension": ".py",
   "mimetype": "text/x-python",
   "name": "python",
   "nbconvert_exporter": "python",
   "pygments_lexer": "ipython3",
   "version": "3.11.4"
  }
 },
 "nbformat": 4,
 "nbformat_minor": 2
}
